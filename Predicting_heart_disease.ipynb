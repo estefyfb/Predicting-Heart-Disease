{
  "nbformat": 4,
  "nbformat_minor": 0,
  "metadata": {
    "colab": {
      "name": "Predicting heart disease.ipynb",
      "version": "0.3.2",
      "provenance": [],
      "collapsed_sections": []
    },
    "language_info": {
      "codemirror_mode": {
        "name": "ipython",
        "version": 3
      },
      "file_extension": ".py",
      "mimetype": "text/x-python",
      "name": "python",
      "nbconvert_exporter": "python",
      "pygments_lexer": "ipython3",
      "version": "3.6.4"
    },
    "kernelspec": {
      "display_name": "Python 3",
      "language": "python",
      "name": "python3"
    }
  },
  "cells": [
    {
      "cell_type": "markdown",
      "metadata": {
        "id": "Wz5cgQo9ufMQ",
        "colab_type": "text"
      },
      "source": [
        "# Predicting Heart Disease"
      ]
    },
    {
      "cell_type": "markdown",
      "metadata": {
        "id": "2cCTzBw2ufMS",
        "colab_type": "text"
      },
      "source": [
        "## Task and dataset description"
      ]
    },
    {
      "cell_type": "markdown",
      "metadata": {
        "id": "8jLdXGufufMU",
        "colab_type": "text"
      },
      "source": [
        "The task is to predict whether a subject has heart disease based on 13 attributes. The \"Heart Disease Data Set\" can be found at https://archive.ics.uci.edu/ml/datasets/Heart+Disease. Each observation represents a subject, and there is a total of 303 observations. The following is a description of the attributes: \n",
        "\n",
        "1. age  \n",
        "2. sex (1 = male; 0 = female) \n",
        "3. cp: chest pain type (1 = typical angina, 2 = atypical angina, 3 = non-anginal pain, 4 = asymptomatic)\n",
        "4. restbps: resting blood pressure (in mm Hg on admission to the hospital) \n",
        "5. chol: serum cholesterol in mg/dl \n",
        "6. fbs: (fasting blood sugar > 120 mg/dl) (1 = true; 0 = false)  \n",
        "7. restecg: resting electrocardiographic results \n",
        "      --  0 = normal \n",
        "      --  1 = having ST-T wave abnormality (T wave inversions and/or ST elevation or depression of > 0.05 mV) \n",
        "      --  2 = showing probable or definite left ventricular hypertrophy by Estes' criteria \n",
        "8. thalach: maximum heart rate achieved \n",
        "9. exang: exercise induced angina (1 = yes; 0 = no) \n",
        "10. oldpeak = ST depression induced by exercise relative to rest \n",
        "11. slope: the slope of the peak exercise ST segment  (1 = upsloping, 2 = flat, 3 = downsloping)\n",
        "12. ca: number of major vessels (0-3) colored by flourosopy \n",
        "13. thal (3 = normal; 6 = fixed defect; 7 = reversable defect) \n",
        "14. number: diagnosis of heart disease (angiographic disease status) \n",
        "      -- 0: < 50% diameter narrowing (no heart disease) \n",
        "      -- 1-4: > 50% diameter narrowing  (heart disease)\n"
      ]
    },
    {
      "cell_type": "code",
      "metadata": {
        "id": "lLZS8mM1ufMV",
        "colab_type": "code",
        "colab": {}
      },
      "source": [
        "#import libraries\n",
        "import pandas as pd\n",
        "import numpy as np\n",
        "import sklearn as sk\n",
        "import matplotlib.pyplot as plt\n",
        "import seaborn as sns\n",
        "from sklearn.preprocessing import LabelEncoder\n",
        "from sklearn.preprocessing import StandardScaler\n",
        "from sklearn.linear_model import LogisticRegression\n",
        "from sklearn.tree import DecisionTreeClassifier\n",
        "from sklearn.ensemble import RandomForestClassifier\n",
        "from sklearn.neighbors import KNeighborsClassifier\n",
        "from sklearn.model_selection import train_test_split, cross_val_score, GridSearchCV\n",
        "from sklearn.metrics import accuracy_score, classification_report, precision_score, recall_score, confusion_matrix, precision_recall_curve, f1_score, roc_auc_score\n",
        "\n",
        "__author__ = \"Estefy Fiallos\"\n",
        "__email__ = \"estefy.b.fiallos@gmail.com\""
      ],
      "execution_count": 0,
      "outputs": []
    },
    {
      "cell_type": "markdown",
      "metadata": {
        "id": "51lWBsHwufMb",
        "colab_type": "text"
      },
      "source": [
        "\n",
        "## Load the data"
      ]
    },
    {
      "cell_type": "code",
      "metadata": {
        "id": "PA5lvtiHFmty",
        "colab_type": "code",
        "outputId": "f26298d4-bb0c-47fb-8004-168174da4cf5",
        "colab": {
          "base_uri": "https://localhost:8080/",
          "height": 195
        }
      },
      "source": [
        "#load the data into a Pandas dataframe\n",
        "columns = [\"age\", \"sex\", \"cp\", \"restbp\", \"chol\", \"fbs\", \"restecg\", \n",
        "           \"thalach\", \"exang\", \"oldpeak\", \"slope\", \"ca\", \"thal\", \"num\"]\n",
        "df = pd.read_csv(\"http://archive.ics.uci.edu/ml/machine-learning-databases/heart-disease/processed.cleveland.data\", header=None, names=columns)\n",
        "\n",
        "df.head()"
      ],
      "execution_count": 3,
      "outputs": [
        {
          "output_type": "execute_result",
          "data": {
            "text/html": [
              "<div>\n",
              "<style scoped>\n",
              "    .dataframe tbody tr th:only-of-type {\n",
              "        vertical-align: middle;\n",
              "    }\n",
              "\n",
              "    .dataframe tbody tr th {\n",
              "        vertical-align: top;\n",
              "    }\n",
              "\n",
              "    .dataframe thead th {\n",
              "        text-align: right;\n",
              "    }\n",
              "</style>\n",
              "<table border=\"1\" class=\"dataframe\">\n",
              "  <thead>\n",
              "    <tr style=\"text-align: right;\">\n",
              "      <th></th>\n",
              "      <th>age</th>\n",
              "      <th>sex</th>\n",
              "      <th>cp</th>\n",
              "      <th>restbp</th>\n",
              "      <th>chol</th>\n",
              "      <th>fbs</th>\n",
              "      <th>restecg</th>\n",
              "      <th>thalach</th>\n",
              "      <th>exang</th>\n",
              "      <th>oldpeak</th>\n",
              "      <th>slope</th>\n",
              "      <th>ca</th>\n",
              "      <th>thal</th>\n",
              "      <th>num</th>\n",
              "    </tr>\n",
              "  </thead>\n",
              "  <tbody>\n",
              "    <tr>\n",
              "      <th>0</th>\n",
              "      <td>63.0</td>\n",
              "      <td>1.0</td>\n",
              "      <td>1.0</td>\n",
              "      <td>145.0</td>\n",
              "      <td>233.0</td>\n",
              "      <td>1.0</td>\n",
              "      <td>2.0</td>\n",
              "      <td>150.0</td>\n",
              "      <td>0.0</td>\n",
              "      <td>2.3</td>\n",
              "      <td>3.0</td>\n",
              "      <td>0.0</td>\n",
              "      <td>6.0</td>\n",
              "      <td>0</td>\n",
              "    </tr>\n",
              "    <tr>\n",
              "      <th>1</th>\n",
              "      <td>67.0</td>\n",
              "      <td>1.0</td>\n",
              "      <td>4.0</td>\n",
              "      <td>160.0</td>\n",
              "      <td>286.0</td>\n",
              "      <td>0.0</td>\n",
              "      <td>2.0</td>\n",
              "      <td>108.0</td>\n",
              "      <td>1.0</td>\n",
              "      <td>1.5</td>\n",
              "      <td>2.0</td>\n",
              "      <td>3.0</td>\n",
              "      <td>3.0</td>\n",
              "      <td>2</td>\n",
              "    </tr>\n",
              "    <tr>\n",
              "      <th>2</th>\n",
              "      <td>67.0</td>\n",
              "      <td>1.0</td>\n",
              "      <td>4.0</td>\n",
              "      <td>120.0</td>\n",
              "      <td>229.0</td>\n",
              "      <td>0.0</td>\n",
              "      <td>2.0</td>\n",
              "      <td>129.0</td>\n",
              "      <td>1.0</td>\n",
              "      <td>2.6</td>\n",
              "      <td>2.0</td>\n",
              "      <td>2.0</td>\n",
              "      <td>7.0</td>\n",
              "      <td>1</td>\n",
              "    </tr>\n",
              "    <tr>\n",
              "      <th>3</th>\n",
              "      <td>37.0</td>\n",
              "      <td>1.0</td>\n",
              "      <td>3.0</td>\n",
              "      <td>130.0</td>\n",
              "      <td>250.0</td>\n",
              "      <td>0.0</td>\n",
              "      <td>0.0</td>\n",
              "      <td>187.0</td>\n",
              "      <td>0.0</td>\n",
              "      <td>3.5</td>\n",
              "      <td>3.0</td>\n",
              "      <td>0.0</td>\n",
              "      <td>3.0</td>\n",
              "      <td>0</td>\n",
              "    </tr>\n",
              "    <tr>\n",
              "      <th>4</th>\n",
              "      <td>41.0</td>\n",
              "      <td>0.0</td>\n",
              "      <td>2.0</td>\n",
              "      <td>130.0</td>\n",
              "      <td>204.0</td>\n",
              "      <td>0.0</td>\n",
              "      <td>2.0</td>\n",
              "      <td>172.0</td>\n",
              "      <td>0.0</td>\n",
              "      <td>1.4</td>\n",
              "      <td>1.0</td>\n",
              "      <td>0.0</td>\n",
              "      <td>3.0</td>\n",
              "      <td>0</td>\n",
              "    </tr>\n",
              "  </tbody>\n",
              "</table>\n",
              "</div>"
            ],
            "text/plain": [
              "    age  sex   cp  restbp   chol  fbs  ...  exang  oldpeak  slope   ca  thal num\n",
              "0  63.0  1.0  1.0   145.0  233.0  1.0  ...    0.0      2.3    3.0  0.0   6.0   0\n",
              "1  67.0  1.0  4.0   160.0  286.0  0.0  ...    1.0      1.5    2.0  3.0   3.0   2\n",
              "2  67.0  1.0  4.0   120.0  229.0  0.0  ...    1.0      2.6    2.0  2.0   7.0   1\n",
              "3  37.0  1.0  3.0   130.0  250.0  0.0  ...    0.0      3.5    3.0  0.0   3.0   0\n",
              "4  41.0  0.0  2.0   130.0  204.0  0.0  ...    0.0      1.4    1.0  0.0   3.0   0\n",
              "\n",
              "[5 rows x 14 columns]"
            ]
          },
          "metadata": {
            "tags": []
          },
          "execution_count": 3
        }
      ]
    },
    {
      "cell_type": "markdown",
      "metadata": {
        "id": "YUc0IvywufMg",
        "colab_type": "text"
      },
      "source": [
        "##Data Quality Check"
      ]
    },
    {
      "cell_type": "code",
      "metadata": {
        "id": "k5lzystnufMh",
        "colab_type": "code",
        "outputId": "b580f7b6-f763-4101-9315-26658fba0e8f",
        "colab": {
          "base_uri": "https://localhost:8080/",
          "height": 269
        }
      },
      "source": [
        "#look for missing values\n",
        "df.isnull().any()"
      ],
      "execution_count": 4,
      "outputs": [
        {
          "output_type": "execute_result",
          "data": {
            "text/plain": [
              "age        False\n",
              "sex        False\n",
              "cp         False\n",
              "restbp     False\n",
              "chol       False\n",
              "fbs        False\n",
              "restecg    False\n",
              "thalach    False\n",
              "exang      False\n",
              "oldpeak    False\n",
              "slope      False\n",
              "ca         False\n",
              "thal       False\n",
              "num        False\n",
              "dtype: bool"
            ]
          },
          "metadata": {
            "tags": []
          },
          "execution_count": 4
        }
      ]
    },
    {
      "cell_type": "code",
      "metadata": {
        "id": "-Kiz0Ta1HwJM",
        "colab_type": "code",
        "outputId": "5a8266e9-877a-4732-f378-9cc8854a47de",
        "colab": {
          "base_uri": "https://localhost:8080/",
          "height": 336
        }
      },
      "source": [
        "df.info()"
      ],
      "execution_count": 5,
      "outputs": [
        {
          "output_type": "stream",
          "text": [
            "<class 'pandas.core.frame.DataFrame'>\n",
            "RangeIndex: 303 entries, 0 to 302\n",
            "Data columns (total 14 columns):\n",
            "age        303 non-null float64\n",
            "sex        303 non-null float64\n",
            "cp         303 non-null float64\n",
            "restbp     303 non-null float64\n",
            "chol       303 non-null float64\n",
            "fbs        303 non-null float64\n",
            "restecg    303 non-null float64\n",
            "thalach    303 non-null float64\n",
            "exang      303 non-null float64\n",
            "oldpeak    303 non-null float64\n",
            "slope      303 non-null float64\n",
            "ca         303 non-null object\n",
            "thal       303 non-null object\n",
            "num        303 non-null int64\n",
            "dtypes: float64(11), int64(1), object(2)\n",
            "memory usage: 33.2+ KB\n"
          ],
          "name": "stdout"
        }
      ]
    },
    {
      "cell_type": "code",
      "metadata": {
        "id": "_gsdrtkdKis6",
        "colab_type": "code",
        "outputId": "6165c157-11f3-4ada-fe13-8fd6be871cbc",
        "colab": {
          "base_uri": "https://localhost:8080/",
          "height": 336
        }
      },
      "source": [
        "#Convert discrete features to integers\n",
        "\n",
        "categorical_features=['sex','cp', 'fbs', 'restecg', 'exang', 'slope', 'ca', 'thal']\n",
        "\n",
        "encoders = dict() \n",
        "\n",
        "for i in categorical_features:\n",
        "  encoders[i] = LabelEncoder()\n",
        "  df[i] = encoders[i].fit_transform(df[i])\n",
        "  \n",
        "df.info()"
      ],
      "execution_count": 6,
      "outputs": [
        {
          "output_type": "stream",
          "text": [
            "<class 'pandas.core.frame.DataFrame'>\n",
            "RangeIndex: 303 entries, 0 to 302\n",
            "Data columns (total 14 columns):\n",
            "age        303 non-null float64\n",
            "sex        303 non-null int64\n",
            "cp         303 non-null int64\n",
            "restbp     303 non-null float64\n",
            "chol       303 non-null float64\n",
            "fbs        303 non-null int64\n",
            "restecg    303 non-null int64\n",
            "thalach    303 non-null float64\n",
            "exang      303 non-null int64\n",
            "oldpeak    303 non-null float64\n",
            "slope      303 non-null int64\n",
            "ca         303 non-null int64\n",
            "thal       303 non-null int64\n",
            "num        303 non-null int64\n",
            "dtypes: float64(5), int64(9)\n",
            "memory usage: 33.2 KB\n"
          ],
          "name": "stdout"
        }
      ]
    },
    {
      "cell_type": "code",
      "metadata": {
        "id": "zOHBJGI1L1vz",
        "colab_type": "code",
        "outputId": "4c05da9f-44f7-44fc-8272-93d1f79b4637",
        "colab": {
          "base_uri": "https://localhost:8080/",
          "height": 195
        }
      },
      "source": [
        "df.head()"
      ],
      "execution_count": 7,
      "outputs": [
        {
          "output_type": "execute_result",
          "data": {
            "text/html": [
              "<div>\n",
              "<style scoped>\n",
              "    .dataframe tbody tr th:only-of-type {\n",
              "        vertical-align: middle;\n",
              "    }\n",
              "\n",
              "    .dataframe tbody tr th {\n",
              "        vertical-align: top;\n",
              "    }\n",
              "\n",
              "    .dataframe thead th {\n",
              "        text-align: right;\n",
              "    }\n",
              "</style>\n",
              "<table border=\"1\" class=\"dataframe\">\n",
              "  <thead>\n",
              "    <tr style=\"text-align: right;\">\n",
              "      <th></th>\n",
              "      <th>age</th>\n",
              "      <th>sex</th>\n",
              "      <th>cp</th>\n",
              "      <th>restbp</th>\n",
              "      <th>chol</th>\n",
              "      <th>fbs</th>\n",
              "      <th>restecg</th>\n",
              "      <th>thalach</th>\n",
              "      <th>exang</th>\n",
              "      <th>oldpeak</th>\n",
              "      <th>slope</th>\n",
              "      <th>ca</th>\n",
              "      <th>thal</th>\n",
              "      <th>num</th>\n",
              "    </tr>\n",
              "  </thead>\n",
              "  <tbody>\n",
              "    <tr>\n",
              "      <th>0</th>\n",
              "      <td>63.0</td>\n",
              "      <td>1</td>\n",
              "      <td>0</td>\n",
              "      <td>145.0</td>\n",
              "      <td>233.0</td>\n",
              "      <td>1</td>\n",
              "      <td>2</td>\n",
              "      <td>150.0</td>\n",
              "      <td>0</td>\n",
              "      <td>2.3</td>\n",
              "      <td>2</td>\n",
              "      <td>0</td>\n",
              "      <td>1</td>\n",
              "      <td>0</td>\n",
              "    </tr>\n",
              "    <tr>\n",
              "      <th>1</th>\n",
              "      <td>67.0</td>\n",
              "      <td>1</td>\n",
              "      <td>3</td>\n",
              "      <td>160.0</td>\n",
              "      <td>286.0</td>\n",
              "      <td>0</td>\n",
              "      <td>2</td>\n",
              "      <td>108.0</td>\n",
              "      <td>1</td>\n",
              "      <td>1.5</td>\n",
              "      <td>1</td>\n",
              "      <td>3</td>\n",
              "      <td>0</td>\n",
              "      <td>2</td>\n",
              "    </tr>\n",
              "    <tr>\n",
              "      <th>2</th>\n",
              "      <td>67.0</td>\n",
              "      <td>1</td>\n",
              "      <td>3</td>\n",
              "      <td>120.0</td>\n",
              "      <td>229.0</td>\n",
              "      <td>0</td>\n",
              "      <td>2</td>\n",
              "      <td>129.0</td>\n",
              "      <td>1</td>\n",
              "      <td>2.6</td>\n",
              "      <td>1</td>\n",
              "      <td>2</td>\n",
              "      <td>2</td>\n",
              "      <td>1</td>\n",
              "    </tr>\n",
              "    <tr>\n",
              "      <th>3</th>\n",
              "      <td>37.0</td>\n",
              "      <td>1</td>\n",
              "      <td>2</td>\n",
              "      <td>130.0</td>\n",
              "      <td>250.0</td>\n",
              "      <td>0</td>\n",
              "      <td>0</td>\n",
              "      <td>187.0</td>\n",
              "      <td>0</td>\n",
              "      <td>3.5</td>\n",
              "      <td>2</td>\n",
              "      <td>0</td>\n",
              "      <td>0</td>\n",
              "      <td>0</td>\n",
              "    </tr>\n",
              "    <tr>\n",
              "      <th>4</th>\n",
              "      <td>41.0</td>\n",
              "      <td>0</td>\n",
              "      <td>1</td>\n",
              "      <td>130.0</td>\n",
              "      <td>204.0</td>\n",
              "      <td>0</td>\n",
              "      <td>2</td>\n",
              "      <td>172.0</td>\n",
              "      <td>0</td>\n",
              "      <td>1.4</td>\n",
              "      <td>0</td>\n",
              "      <td>0</td>\n",
              "      <td>0</td>\n",
              "      <td>0</td>\n",
              "    </tr>\n",
              "  </tbody>\n",
              "</table>\n",
              "</div>"
            ],
            "text/plain": [
              "    age  sex  cp  restbp   chol  fbs  ...  exang  oldpeak  slope  ca  thal  num\n",
              "0  63.0    1   0   145.0  233.0    1  ...      0      2.3      2   0     1    0\n",
              "1  67.0    1   3   160.0  286.0    0  ...      1      1.5      1   3     0    2\n",
              "2  67.0    1   3   120.0  229.0    0  ...      1      2.6      1   2     2    1\n",
              "3  37.0    1   2   130.0  250.0    0  ...      0      3.5      2   0     0    0\n",
              "4  41.0    0   1   130.0  204.0    0  ...      0      1.4      0   0     0    0\n",
              "\n",
              "[5 rows x 14 columns]"
            ]
          },
          "metadata": {
            "tags": []
          },
          "execution_count": 7
        }
      ]
    },
    {
      "cell_type": "code",
      "metadata": {
        "id": "k55H0p8J-OSG",
        "colab_type": "code",
        "outputId": "d982d02d-4612-4f1c-fa97-60f3145587cf",
        "colab": {
          "base_uri": "https://localhost:8080/",
          "height": 195
        }
      },
      "source": [
        "#Change target variable 'num' to binary: 0=no disease, 1=heart disease (instead of 1-4)\n",
        "\n",
        "df.num = [1 if i > 0 else i for i in df.num]\n",
        "\n",
        "df.head()"
      ],
      "execution_count": 9,
      "outputs": [
        {
          "output_type": "execute_result",
          "data": {
            "text/html": [
              "<div>\n",
              "<style scoped>\n",
              "    .dataframe tbody tr th:only-of-type {\n",
              "        vertical-align: middle;\n",
              "    }\n",
              "\n",
              "    .dataframe tbody tr th {\n",
              "        vertical-align: top;\n",
              "    }\n",
              "\n",
              "    .dataframe thead th {\n",
              "        text-align: right;\n",
              "    }\n",
              "</style>\n",
              "<table border=\"1\" class=\"dataframe\">\n",
              "  <thead>\n",
              "    <tr style=\"text-align: right;\">\n",
              "      <th></th>\n",
              "      <th>age</th>\n",
              "      <th>sex</th>\n",
              "      <th>cp</th>\n",
              "      <th>restbp</th>\n",
              "      <th>chol</th>\n",
              "      <th>fbs</th>\n",
              "      <th>restecg</th>\n",
              "      <th>thalach</th>\n",
              "      <th>exang</th>\n",
              "      <th>oldpeak</th>\n",
              "      <th>slope</th>\n",
              "      <th>ca</th>\n",
              "      <th>thal</th>\n",
              "      <th>num</th>\n",
              "    </tr>\n",
              "  </thead>\n",
              "  <tbody>\n",
              "    <tr>\n",
              "      <th>0</th>\n",
              "      <td>63.0</td>\n",
              "      <td>1</td>\n",
              "      <td>0</td>\n",
              "      <td>145.0</td>\n",
              "      <td>233.0</td>\n",
              "      <td>1</td>\n",
              "      <td>2</td>\n",
              "      <td>150.0</td>\n",
              "      <td>0</td>\n",
              "      <td>2.3</td>\n",
              "      <td>2</td>\n",
              "      <td>0</td>\n",
              "      <td>1</td>\n",
              "      <td>0</td>\n",
              "    </tr>\n",
              "    <tr>\n",
              "      <th>1</th>\n",
              "      <td>67.0</td>\n",
              "      <td>1</td>\n",
              "      <td>3</td>\n",
              "      <td>160.0</td>\n",
              "      <td>286.0</td>\n",
              "      <td>0</td>\n",
              "      <td>2</td>\n",
              "      <td>108.0</td>\n",
              "      <td>1</td>\n",
              "      <td>1.5</td>\n",
              "      <td>1</td>\n",
              "      <td>3</td>\n",
              "      <td>0</td>\n",
              "      <td>1</td>\n",
              "    </tr>\n",
              "    <tr>\n",
              "      <th>2</th>\n",
              "      <td>67.0</td>\n",
              "      <td>1</td>\n",
              "      <td>3</td>\n",
              "      <td>120.0</td>\n",
              "      <td>229.0</td>\n",
              "      <td>0</td>\n",
              "      <td>2</td>\n",
              "      <td>129.0</td>\n",
              "      <td>1</td>\n",
              "      <td>2.6</td>\n",
              "      <td>1</td>\n",
              "      <td>2</td>\n",
              "      <td>2</td>\n",
              "      <td>1</td>\n",
              "    </tr>\n",
              "    <tr>\n",
              "      <th>3</th>\n",
              "      <td>37.0</td>\n",
              "      <td>1</td>\n",
              "      <td>2</td>\n",
              "      <td>130.0</td>\n",
              "      <td>250.0</td>\n",
              "      <td>0</td>\n",
              "      <td>0</td>\n",
              "      <td>187.0</td>\n",
              "      <td>0</td>\n",
              "      <td>3.5</td>\n",
              "      <td>2</td>\n",
              "      <td>0</td>\n",
              "      <td>0</td>\n",
              "      <td>0</td>\n",
              "    </tr>\n",
              "    <tr>\n",
              "      <th>4</th>\n",
              "      <td>41.0</td>\n",
              "      <td>0</td>\n",
              "      <td>1</td>\n",
              "      <td>130.0</td>\n",
              "      <td>204.0</td>\n",
              "      <td>0</td>\n",
              "      <td>2</td>\n",
              "      <td>172.0</td>\n",
              "      <td>0</td>\n",
              "      <td>1.4</td>\n",
              "      <td>0</td>\n",
              "      <td>0</td>\n",
              "      <td>0</td>\n",
              "      <td>0</td>\n",
              "    </tr>\n",
              "  </tbody>\n",
              "</table>\n",
              "</div>"
            ],
            "text/plain": [
              "    age  sex  cp  restbp   chol  fbs  ...  exang  oldpeak  slope  ca  thal  num\n",
              "0  63.0    1   0   145.0  233.0    1  ...      0      2.3      2   0     1    0\n",
              "1  67.0    1   3   160.0  286.0    0  ...      1      1.5      1   3     0    1\n",
              "2  67.0    1   3   120.0  229.0    0  ...      1      2.6      1   2     2    1\n",
              "3  37.0    1   2   130.0  250.0    0  ...      0      3.5      2   0     0    0\n",
              "4  41.0    0   1   130.0  204.0    0  ...      0      1.4      0   0     0    0\n",
              "\n",
              "[5 rows x 14 columns]"
            ]
          },
          "metadata": {
            "tags": []
          },
          "execution_count": 9
        }
      ]
    },
    {
      "cell_type": "markdown",
      "metadata": {
        "id": "yKQjMN_Uunr5",
        "colab_type": "text"
      },
      "source": [
        "After exploring the data quality, we can see that the dataset does not contain missing values. I converted discrete features into integers and made the target variable a binary case, where 0 = no disease and 1= heart disease in place of the 1-4 heart disease categories. "
      ]
    },
    {
      "cell_type": "markdown",
      "metadata": {
        "id": "ywKgoPnmufMk",
        "colab_type": "text"
      },
      "source": [
        "##Exploratory Data Analysis"
      ]
    },
    {
      "cell_type": "code",
      "metadata": {
        "id": "4WoYMz3iJMgL",
        "colab_type": "code",
        "outputId": "3809fde5-f13d-4f7a-eeb0-338b0a975227",
        "colab": {
          "base_uri": "https://localhost:8080/",
          "height": 34
        }
      },
      "source": [
        "df.shape"
      ],
      "execution_count": 10,
      "outputs": [
        {
          "output_type": "execute_result",
          "data": {
            "text/plain": [
              "(303, 14)"
            ]
          },
          "metadata": {
            "tags": []
          },
          "execution_count": 10
        }
      ]
    },
    {
      "cell_type": "code",
      "metadata": {
        "id": "qKGWpouvJVu8",
        "colab_type": "code",
        "outputId": "3d9d6ad3-24cd-43df-a95a-5d0c24e3dc25",
        "colab": {
          "base_uri": "https://localhost:8080/",
          "height": 284
        }
      },
      "source": [
        "df.describe()"
      ],
      "execution_count": 11,
      "outputs": [
        {
          "output_type": "execute_result",
          "data": {
            "text/html": [
              "<div>\n",
              "<style scoped>\n",
              "    .dataframe tbody tr th:only-of-type {\n",
              "        vertical-align: middle;\n",
              "    }\n",
              "\n",
              "    .dataframe tbody tr th {\n",
              "        vertical-align: top;\n",
              "    }\n",
              "\n",
              "    .dataframe thead th {\n",
              "        text-align: right;\n",
              "    }\n",
              "</style>\n",
              "<table border=\"1\" class=\"dataframe\">\n",
              "  <thead>\n",
              "    <tr style=\"text-align: right;\">\n",
              "      <th></th>\n",
              "      <th>age</th>\n",
              "      <th>sex</th>\n",
              "      <th>cp</th>\n",
              "      <th>restbp</th>\n",
              "      <th>chol</th>\n",
              "      <th>fbs</th>\n",
              "      <th>restecg</th>\n",
              "      <th>thalach</th>\n",
              "      <th>exang</th>\n",
              "      <th>oldpeak</th>\n",
              "      <th>slope</th>\n",
              "      <th>ca</th>\n",
              "      <th>thal</th>\n",
              "      <th>num</th>\n",
              "    </tr>\n",
              "  </thead>\n",
              "  <tbody>\n",
              "    <tr>\n",
              "      <th>count</th>\n",
              "      <td>303.000000</td>\n",
              "      <td>303.000000</td>\n",
              "      <td>303.000000</td>\n",
              "      <td>303.000000</td>\n",
              "      <td>303.000000</td>\n",
              "      <td>303.000000</td>\n",
              "      <td>303.000000</td>\n",
              "      <td>303.000000</td>\n",
              "      <td>303.000000</td>\n",
              "      <td>303.000000</td>\n",
              "      <td>303.000000</td>\n",
              "      <td>303.000000</td>\n",
              "      <td>303.000000</td>\n",
              "      <td>303.000000</td>\n",
              "    </tr>\n",
              "    <tr>\n",
              "      <th>mean</th>\n",
              "      <td>54.438944</td>\n",
              "      <td>0.679868</td>\n",
              "      <td>2.158416</td>\n",
              "      <td>131.689769</td>\n",
              "      <td>246.693069</td>\n",
              "      <td>0.148515</td>\n",
              "      <td>0.990099</td>\n",
              "      <td>149.607261</td>\n",
              "      <td>0.326733</td>\n",
              "      <td>1.039604</td>\n",
              "      <td>0.600660</td>\n",
              "      <td>0.716172</td>\n",
              "      <td>0.851485</td>\n",
              "      <td>0.458746</td>\n",
              "    </tr>\n",
              "    <tr>\n",
              "      <th>std</th>\n",
              "      <td>9.038662</td>\n",
              "      <td>0.467299</td>\n",
              "      <td>0.960126</td>\n",
              "      <td>17.599748</td>\n",
              "      <td>51.776918</td>\n",
              "      <td>0.356198</td>\n",
              "      <td>0.994971</td>\n",
              "      <td>22.875003</td>\n",
              "      <td>0.469794</td>\n",
              "      <td>1.161075</td>\n",
              "      <td>0.616226</td>\n",
              "      <td>1.005927</td>\n",
              "      <td>0.970282</td>\n",
              "      <td>0.499120</td>\n",
              "    </tr>\n",
              "    <tr>\n",
              "      <th>min</th>\n",
              "      <td>29.000000</td>\n",
              "      <td>0.000000</td>\n",
              "      <td>0.000000</td>\n",
              "      <td>94.000000</td>\n",
              "      <td>126.000000</td>\n",
              "      <td>0.000000</td>\n",
              "      <td>0.000000</td>\n",
              "      <td>71.000000</td>\n",
              "      <td>0.000000</td>\n",
              "      <td>0.000000</td>\n",
              "      <td>0.000000</td>\n",
              "      <td>0.000000</td>\n",
              "      <td>0.000000</td>\n",
              "      <td>0.000000</td>\n",
              "    </tr>\n",
              "    <tr>\n",
              "      <th>25%</th>\n",
              "      <td>48.000000</td>\n",
              "      <td>0.000000</td>\n",
              "      <td>2.000000</td>\n",
              "      <td>120.000000</td>\n",
              "      <td>211.000000</td>\n",
              "      <td>0.000000</td>\n",
              "      <td>0.000000</td>\n",
              "      <td>133.500000</td>\n",
              "      <td>0.000000</td>\n",
              "      <td>0.000000</td>\n",
              "      <td>0.000000</td>\n",
              "      <td>0.000000</td>\n",
              "      <td>0.000000</td>\n",
              "      <td>0.000000</td>\n",
              "    </tr>\n",
              "    <tr>\n",
              "      <th>50%</th>\n",
              "      <td>56.000000</td>\n",
              "      <td>1.000000</td>\n",
              "      <td>2.000000</td>\n",
              "      <td>130.000000</td>\n",
              "      <td>241.000000</td>\n",
              "      <td>0.000000</td>\n",
              "      <td>1.000000</td>\n",
              "      <td>153.000000</td>\n",
              "      <td>0.000000</td>\n",
              "      <td>0.800000</td>\n",
              "      <td>1.000000</td>\n",
              "      <td>0.000000</td>\n",
              "      <td>0.000000</td>\n",
              "      <td>0.000000</td>\n",
              "    </tr>\n",
              "    <tr>\n",
              "      <th>75%</th>\n",
              "      <td>61.000000</td>\n",
              "      <td>1.000000</td>\n",
              "      <td>3.000000</td>\n",
              "      <td>140.000000</td>\n",
              "      <td>275.000000</td>\n",
              "      <td>0.000000</td>\n",
              "      <td>2.000000</td>\n",
              "      <td>166.000000</td>\n",
              "      <td>1.000000</td>\n",
              "      <td>1.600000</td>\n",
              "      <td>1.000000</td>\n",
              "      <td>1.000000</td>\n",
              "      <td>2.000000</td>\n",
              "      <td>1.000000</td>\n",
              "    </tr>\n",
              "    <tr>\n",
              "      <th>max</th>\n",
              "      <td>77.000000</td>\n",
              "      <td>1.000000</td>\n",
              "      <td>3.000000</td>\n",
              "      <td>200.000000</td>\n",
              "      <td>564.000000</td>\n",
              "      <td>1.000000</td>\n",
              "      <td>2.000000</td>\n",
              "      <td>202.000000</td>\n",
              "      <td>1.000000</td>\n",
              "      <td>6.200000</td>\n",
              "      <td>2.000000</td>\n",
              "      <td>4.000000</td>\n",
              "      <td>3.000000</td>\n",
              "      <td>1.000000</td>\n",
              "    </tr>\n",
              "  </tbody>\n",
              "</table>\n",
              "</div>"
            ],
            "text/plain": [
              "              age         sex          cp  ...          ca        thal         num\n",
              "count  303.000000  303.000000  303.000000  ...  303.000000  303.000000  303.000000\n",
              "mean    54.438944    0.679868    2.158416  ...    0.716172    0.851485    0.458746\n",
              "std      9.038662    0.467299    0.960126  ...    1.005927    0.970282    0.499120\n",
              "min     29.000000    0.000000    0.000000  ...    0.000000    0.000000    0.000000\n",
              "25%     48.000000    0.000000    2.000000  ...    0.000000    0.000000    0.000000\n",
              "50%     56.000000    1.000000    2.000000  ...    0.000000    0.000000    0.000000\n",
              "75%     61.000000    1.000000    3.000000  ...    1.000000    2.000000    1.000000\n",
              "max     77.000000    1.000000    3.000000  ...    4.000000    3.000000    1.000000\n",
              "\n",
              "[8 rows x 14 columns]"
            ]
          },
          "metadata": {
            "tags": []
          },
          "execution_count": 11
        }
      ]
    },
    {
      "cell_type": "code",
      "metadata": {
        "id": "C_O9Q8cCwhy4",
        "colab_type": "code",
        "outputId": "49f000d0-9473-498a-871d-b37e254a1c4a",
        "colab": {
          "base_uri": "https://localhost:8080/",
          "height": 604
        }
      },
      "source": [
        "#Check distributions of discrete variables\n",
        "\n",
        "def discrete_dist(fignum, var, title):\n",
        "  plt.subplot(2,5, fignum)\n",
        "  var.value_counts(sort=False).plot(kind='bar', title = title)\n",
        "\n",
        "plt.subplots(figsize=(20, 10))\n",
        "\n",
        "discrete_dist(1, df.num, 'Disease Status')\n",
        "plt.ylabel('Number of Patients')\n",
        "discrete_dist(2, df.sex, 'Sex, 0=Female 1=Male')\n",
        "discrete_dist(3, df.cp, 'Chest Pain Type')\n",
        "discrete_dist(4, df.fbs, 'Fasting Blood Sugar > 120 mg/dl')\n",
        "discrete_dist(5, df.restecg, 'Resting ECG Results')\n",
        "discrete_dist(6, df.exang, 'Exercise Induced Angina')\n",
        "plt.ylabel('Number of Patients')\n",
        "discrete_dist(7, df.slope, 'Slope')\n",
        "discrete_dist(8, df.ca, '# Major vessels colored by fluoroscopy')\n",
        "discrete_dist(9, df.thal, 'Thal')\n",
        "\n",
        "plt.show()"
      ],
      "execution_count": 13,
      "outputs": [
        {
          "output_type": "display_data",
          "data": {
            "image/png": "[encoded data removed]",
            "text/plain": [
              "<Figure size 1440x720 with 9 Axes>"
            ]
          },
          "metadata": {
            "tags": []
          }
        }
      ]
    },
    {
      "cell_type": "markdown",
      "metadata": {
        "id": "EAg_1taYf8h-",
        "colab_type": "text"
      },
      "source": [
        "After examining the distributions of discrete variables I noted the following: \n",
        "\n",
        "*   There are less heart disease patients (1) than asymptomatic patients (0), but the classes are not too imbalanced.\n",
        "*   There are about twice as much male patients than female patients\n",
        "*   The most prevalent chest pain type is \"asymptomatic\" (3), or no chest pain, followed by \"non-anginal pain\" (3)\n",
        "*   Only a small proportion of patients have fasting blood sugar > 120 mg/dl (1)\n",
        "*   Resting ECG results are mainly split between \"normal\" (0) and \"showing probable or definite left ventricular hypertrophy by Estes' criteria\" (2)\n",
        "*   There are half as many patients with exercise induced angina than without. \n",
        "*   There are few instances of \"downsloping\" (2), and about an equal number of instances of \"upsloping\" and \"flat\" slope of the peak exercise ST segment\n",
        "*  Most patients did not have any vessels colored by fluoroscopy\n",
        "*  Most patients were \"normal\" (0), followed by \"reversible defect\" (2) in respect to thal\n",
        "\n",
        "\n",
        "\n",
        "I also noticed that there is one more category than expected in \"thal\" and \"ca\". I will explore the original labels for these categories."
      ]
    },
    {
      "cell_type": "code",
      "metadata": {
        "id": "K5atUyCvMoJj",
        "colab_type": "code",
        "outputId": "ce372160-db15-4d7a-8652-4836a7f0d9fd",
        "colab": {
          "base_uri": "https://localhost:8080/",
          "height": 34
        }
      },
      "source": [
        "#Get original labels for 'ca'\n",
        "list(encoders['ca'].classes_)"
      ],
      "execution_count": 14,
      "outputs": [
        {
          "output_type": "execute_result",
          "data": {
            "text/plain": [
              "['0.0', '1.0', '2.0', '3.0', '?']"
            ]
          },
          "metadata": {
            "tags": []
          },
          "execution_count": 14
        }
      ]
    },
    {
      "cell_type": "code",
      "metadata": {
        "id": "E_JwaoBpPLlB",
        "colab_type": "code",
        "outputId": "100e55c1-88c1-4f6f-fdbc-2103a8441544",
        "colab": {
          "base_uri": "https://localhost:8080/",
          "height": 34
        }
      },
      "source": [
        "#Get original labels for 'thal'\n",
        "list(encoders['thal'].classes_)"
      ],
      "execution_count": 15,
      "outputs": [
        {
          "output_type": "execute_result",
          "data": {
            "text/plain": [
              "['3.0', '6.0', '7.0', '?']"
            ]
          },
          "metadata": {
            "tags": []
          },
          "execution_count": 15
        }
      ]
    },
    {
      "cell_type": "markdown",
      "metadata": {
        "id": "SnGxCCJdPbm4",
        "colab_type": "text"
      },
      "source": [
        "It appears that there are missing values in \"thal\" and \"ca\" denoted by \"?\". Since there are only a few missing values, I will delete these rows.\n"
      ]
    },
    {
      "cell_type": "code",
      "metadata": {
        "id": "6nKj-UeIf6ql",
        "colab_type": "code",
        "outputId": "a3d3114c-dbe3-44f5-b901-f78cbccf24bf",
        "colab": {
          "base_uri": "https://localhost:8080/",
          "height": 336
        }
      },
      "source": [
        "df = df[df.thal != 3]\n",
        "df = df[df.ca != 4]\n",
        "df.info()"
      ],
      "execution_count": 16,
      "outputs": [
        {
          "output_type": "stream",
          "text": [
            "<class 'pandas.core.frame.DataFrame'>\n",
            "Int64Index: 297 entries, 0 to 301\n",
            "Data columns (total 14 columns):\n",
            "age        297 non-null float64\n",
            "sex        297 non-null int64\n",
            "cp         297 non-null int64\n",
            "restbp     297 non-null float64\n",
            "chol       297 non-null float64\n",
            "fbs        297 non-null int64\n",
            "restecg    297 non-null int64\n",
            "thalach    297 non-null float64\n",
            "exang      297 non-null int64\n",
            "oldpeak    297 non-null float64\n",
            "slope      297 non-null int64\n",
            "ca         297 non-null int64\n",
            "thal       297 non-null int64\n",
            "num        297 non-null int64\n",
            "dtypes: float64(5), int64(9)\n",
            "memory usage: 34.8 KB\n"
          ],
          "name": "stdout"
        }
      ]
    },
    {
      "cell_type": "code",
      "metadata": {
        "id": "nYWapiLENeH7",
        "colab_type": "code",
        "outputId": "c19ec0e8-aebf-4b4d-d5ec-6b49b410588b",
        "colab": {
          "base_uri": "https://localhost:8080/",
          "height": 337
        }
      },
      "source": [
        "#Examine distributions of continuous variables\n",
        "fig, axes = plt.subplots( nrows=1, ncols=5, sharey='row', figsize=(20,5))\n",
        "\n",
        "axes[0].hist(df.age)\n",
        "axes[0].set_xlabel(\"Age (years)\")\n",
        "axes[0].set_ylabel(\"Number of Patients\")\n",
        "axes[1].hist(df.restbp)\n",
        "axes[1].set_xlabel('Resting Blood Pressure (mmHg)')\n",
        "axes[2].hist(df.chol)\n",
        "axes[2].set_xlabel(\"Serum cholesterol (mg/dl)\")                  \n",
        "axes[3].hist(df.thalach)\n",
        "axes[3].set_xlabel(\"Maximum Heart Rate Achieved\")\n",
        "axes[4].hist(df.oldpeak)\n",
        "axes[4].set_xlabel(\"ST depression induced by exercise\")                   \n",
        "\n",
        "plt.show()"
      ],
      "execution_count": 18,
      "outputs": [
        {
          "output_type": "display_data",
          "data": {
            "image/png": "[encoded data removed]",
            "text/plain": [
              "<Figure size 1440x360 with 5 Axes>"
            ]
          },
          "metadata": {
            "tags": []
          }
        }
      ]
    },
    {
      "cell_type": "code",
      "metadata": {
        "id": "NAm4lSdsjVn3",
        "colab_type": "code",
        "outputId": "09c06e7b-59e0-431c-8ca6-12800d1a86ce",
        "colab": {
          "base_uri": "https://localhost:8080/",
          "height": 2884
        }
      },
      "source": [
        "#Check distribution of discrete variables by disease status\n",
        "\n",
        "def distbydisease(var, title):\n",
        "  counts = df.groupby('num')[var].value_counts()\n",
        "  df2 = pd.DataFrame([counts.index.codes[0], counts.index.codes[1], counts.values], index=['disease_status', var, 'count'])\n",
        "  df3 = df2.transpose()\n",
        "  sns.catplot(x='disease_status', y='count', hue=var, data=df3, kind='bar')\n",
        "  plt.title(title)\n",
        "  plt.ylabel('Number of Patients')\n",
        "\n",
        "distbydisease('sex', 'Disease Status by Sex')\n",
        "distbydisease('cp', 'Disease Status by Chest Pain Type')\n",
        "distbydisease('fbs', 'Disease Status by Fasting Blood Sugar > 120 mg/dl')\n",
        "distbydisease('restecg','Disease Status by Resting ECG Results')\n",
        "distbydisease('exang','Disease Status by Exercise Induced Angina')\n",
        "distbydisease('slope', 'Disease Status by Peak Exercise ST Segment Slope')\n",
        "distbydisease('ca', 'Ca = # Major vessels colored by fluoroscopy')\n",
        "distbydisease('thal', 'Disease Status by Thal')\n"
      ],
      "execution_count": 82,
      "outputs": [
        {
          "output_type": "display_data",
          "data": {
            "image/png": "[encoded data removed]",
            "text/plain": [
              "<Figure size 406.6x360 with 1 Axes>"
            ]
          },
          "metadata": {
            "tags": []
          }
        },
        {
          "output_type": "display_data",
          "data": {
            "image/png": "[encoded data removed]",
            "text/plain": [
              "<Figure size 406.6x360 with 1 Axes>"
            ]
          },
          "metadata": {
            "tags": []
          }
        },
        {
          "output_type": "display_data",
          "data": {
            "image/png": "[encoded data removed]",
            "text/plain": [
              "<Figure size 406.6x360 with 1 Axes>"
            ]
          },
          "metadata": {
            "tags": []
          }
        },
        {
          "output_type": "display_data",
          "data": {
            "image/png": "[encoded data removed]",
            "text/plain": [
              "<Figure size 407.55x360 with 1 Axes>"
            ]
          },
          "metadata": {
            "tags": []
          }
        },
        {
          "output_type": "display_data",
          "data": {
            "image/png": "[encoded data removed]",
            "text/plain": [
              "<Figure size 406.6x360 with 1 Axes>"
            ]
          },
          "metadata": {
            "tags": []
          }
        },
        {
          "output_type": "display_data",
          "data": {
            "image/png": "[encoded data removed]",
            "text/plain": [
              "<Figure size 406.6x360 with 1 Axes>"
            ]
          },
          "metadata": {
            "tags": []
          }
        },
        {
          "output_type": "display_data",
          "data": {
            "image/png": "[encoded data removed]",
            "text/plain": [
              "<Figure size 406.6x360 with 1 Axes>"
            ]
          },
          "metadata": {
            "tags": []
          }
        },
        {
          "output_type": "display_data",
          "data": {
            "image/png": "[encoded data removed]",
            "text/plain": [
              "<Figure size 406.6x360 with 1 Axes>"
            ]
          },
          "metadata": {
            "tags": []
          }
        }
      ]
    },
    {
      "cell_type": "markdown",
      "metadata": {
        "id": "AXBkLfuh2vKj",
        "colab_type": "text"
      },
      "source": [
        "After checking the distributions of discrete variables by disease status, I noted the following: \n",
        "\n",
        "\n",
        "*   There is a larger proportion of male patients with heart disease compared to female patients (Must keep in mind that there are about twice as many male patients as female patients)\n",
        "*  Surprinsingly, there were more asymptomatic patients (with respect to chest pain) in the heart disease category compared to no heart disease. In turn, the no heart disease category has more patients with typical angina, atypical angina, and non-anginal pain. \n",
        "*  There was not much difference between heart disease and asymptomatic patients with respect to fasting blood sugar levels. \n",
        "*   As expected, there were more people with normal rest ecg results in the no heart disease category than in the heart disease category and more people with abnormalities in the heart disease category.\n",
        "*  There were about 3 times as many patients with exercise induced angina in the heart disease category versus no heart disease. \n",
        "*  There were more patients with a \"flat\" slope of the peak exercise ST segment in the heart disease category than in no heart disease. Also there are more patients with an \"upsloping\" slope of the peak exercise ST segnment in asymptomatic patients versus heart disease patients. \n",
        "*  There are more patients with 1 or more vessels colored by fluoroscopy in the heart disease category compared to no heart disease. \n",
        "*  There are more patients with heart defects in the heart disease category vesus no heart disease\n",
        "\n",
        "Based on these findings, I hypothesize that the most useful variables to detect heart disease are chest pain, rest ecg, exang (exercise induced angina), slope (slope of peak exercise ST segment), ca (number of major vessels colored by fluoroscopy), and thal (defects). "
      ]
    },
    {
      "cell_type": "code",
      "metadata": {
        "id": "bFQdKMOkjAsc",
        "colab_type": "code",
        "outputId": "15ba07c0-ae4a-4d63-dfe6-288c60941ee5",
        "colab": {
          "base_uri": "https://localhost:8080/",
          "height": 609
        }
      },
      "source": [
        "#Compare continuous features based on disease status 0=no disease 1=heart disease\n",
        "plt.subplots(figsize=(20, 10))\n",
        "\n",
        "def contbydisease (num, var, ylab):\n",
        "  plt.subplot(2,3,num)\n",
        "  sns.boxplot(x='num', y=var, data=df, palette=\"Set2\")\n",
        "  plt.ylabel(ylab)\n",
        "  plt.xlabel('Disease status')\n",
        "\n",
        "contbydisease(1, 'age', 'Age')\n",
        "contbydisease(2, 'restbp', 'Resting Blood Pressure')\n",
        "contbydisease(3, 'chol', 'Serum Cholesterol (mg/dl)')\n",
        "contbydisease(4, 'thalach', 'Maximum Heart Rate Achieved')\n",
        "contbydisease(5, 'oldpeak', 'ST depression induced by exercise')\n",
        "\n",
        "plt.show()\n"
      ],
      "execution_count": 29,
      "outputs": [
        {
          "output_type": "display_data",
          "data": {
            "image/png": "[encoded data removed]",
            "text/plain": [
              "<Figure size 1440x720 with 5 Axes>"
            ]
          },
          "metadata": {
            "tags": []
          }
        }
      ]
    },
    {
      "cell_type": "markdown",
      "metadata": {
        "id": "KmNK7rpj-oEG",
        "colab_type": "text"
      },
      "source": [
        "After comparing continuous features by disease status, I noted the following:\n",
        "\n",
        "\n",
        "*   Patients with heart disease are slighly older than asymptomatic patients\n",
        "*  There was no discernible difference in resting blood pressure between different disease status \n",
        "*  There was no discernible difference in serum cholesterol between different disease status\n",
        "*  Patients without heart disease achieved a higher maximum heart rate than patients with heart disease\n",
        "*  There was more ST depression induced by exercise in patients with heart disease versus no heart disease. \n",
        "\n",
        "Based on these observations, I hypothesize that thalach (maximum heart rate) and oldpeak (ST depression induced by exercise) will be most useful for classification. \n"
      ]
    },
    {
      "cell_type": "code",
      "metadata": {
        "id": "M1FdvTtGM85E",
        "colab_type": "code",
        "outputId": "f7a6b617-18e8-4a25-f2fc-9237499d92b7",
        "colab": {
          "base_uri": "https://localhost:8080/",
          "height": 269
        }
      },
      "source": [
        "#Check for correlation between continuous features\n",
        "num_var = ['age', 'restbp', 'chol', 'thalach', 'oldpeak']\n",
        "sns.heatmap(df[num_var].corr(), annot=True, cmap=\"magma\")\n",
        "\n",
        "plt.show()"
      ],
      "execution_count": 42,
      "outputs": [
        {
          "output_type": "display_data",
          "data": {
            "image/png": "[encoded data removed]",
            "text/plain": [
              "<Figure size 432x288 with 2 Axes>"
            ]
          },
          "metadata": {
            "tags": []
          }
        }
      ]
    },
    {
      "cell_type": "markdown",
      "metadata": {
        "id": "dQhjGuvRAS3J",
        "colab_type": "text"
      },
      "source": [
        "There is a negative correlation between thalach and age and between thalach and oldpeak. \n",
        "\n",
        "Thalach is the maximum heart rate achieved. It makes sense that younger patients would achieve a higher maximum heart rate since in general younger patients will be in better health. It also makes sense that patients with less ST depression induced by exercise (oldpeak) would achieve higher maximum heart rate since ST depression is associated with heart disease. "
      ]
    },
    {
      "cell_type": "markdown",
      "metadata": {
        "id": "CTxpOjPYekwQ",
        "colab_type": "text"
      },
      "source": [
        "##Pre-processing\n"
      ]
    },
    {
      "cell_type": "code",
      "metadata": {
        "id": "EKKLIC-hfDVm",
        "colab_type": "code",
        "outputId": "711ae381-fb35-420c-9963-5fe51af3b8aa",
        "colab": {
          "base_uri": "https://localhost:8080/",
          "height": 195
        }
      },
      "source": [
        "#Change categorical variable to category type\n",
        "\n",
        "df[categorical_features] = df[categorical_features].astype('category')\n",
        "\n",
        "#Scale numeric variables\n",
        "\n",
        "ss = dict() \n",
        "\n",
        "for i in num_var:\n",
        "  ss[i] = StandardScaler()\n",
        "  df[i] = ss[i].fit_transform(df[i].values.reshape(-1, 1))\n",
        "\n",
        "df.head()"
      ],
      "execution_count": 43,
      "outputs": [
        {
          "output_type": "execute_result",
          "data": {
            "text/html": [
              "<div>\n",
              "<style scoped>\n",
              "    .dataframe tbody tr th:only-of-type {\n",
              "        vertical-align: middle;\n",
              "    }\n",
              "\n",
              "    .dataframe tbody tr th {\n",
              "        vertical-align: top;\n",
              "    }\n",
              "\n",
              "    .dataframe thead th {\n",
              "        text-align: right;\n",
              "    }\n",
              "</style>\n",
              "<table border=\"1\" class=\"dataframe\">\n",
              "  <thead>\n",
              "    <tr style=\"text-align: right;\">\n",
              "      <th></th>\n",
              "      <th>age</th>\n",
              "      <th>sex</th>\n",
              "      <th>cp</th>\n",
              "      <th>restbp</th>\n",
              "      <th>chol</th>\n",
              "      <th>fbs</th>\n",
              "      <th>restecg</th>\n",
              "      <th>thalach</th>\n",
              "      <th>exang</th>\n",
              "      <th>oldpeak</th>\n",
              "      <th>slope</th>\n",
              "      <th>ca</th>\n",
              "      <th>thal</th>\n",
              "      <th>num</th>\n",
              "    </tr>\n",
              "  </thead>\n",
              "  <tbody>\n",
              "    <tr>\n",
              "      <th>0</th>\n",
              "      <td>0.936181</td>\n",
              "      <td>1</td>\n",
              "      <td>0</td>\n",
              "      <td>0.750380</td>\n",
              "      <td>-0.276443</td>\n",
              "      <td>1</td>\n",
              "      <td>2</td>\n",
              "      <td>0.017494</td>\n",
              "      <td>0</td>\n",
              "      <td>1.068965</td>\n",
              "      <td>2</td>\n",
              "      <td>0</td>\n",
              "      <td>1</td>\n",
              "      <td>0</td>\n",
              "    </tr>\n",
              "    <tr>\n",
              "      <th>1</th>\n",
              "      <td>1.378929</td>\n",
              "      <td>1</td>\n",
              "      <td>3</td>\n",
              "      <td>1.596266</td>\n",
              "      <td>0.744555</td>\n",
              "      <td>0</td>\n",
              "      <td>2</td>\n",
              "      <td>-1.816334</td>\n",
              "      <td>1</td>\n",
              "      <td>0.381773</td>\n",
              "      <td>1</td>\n",
              "      <td>3</td>\n",
              "      <td>0</td>\n",
              "      <td>1</td>\n",
              "    </tr>\n",
              "    <tr>\n",
              "      <th>2</th>\n",
              "      <td>1.378929</td>\n",
              "      <td>1</td>\n",
              "      <td>3</td>\n",
              "      <td>-0.659431</td>\n",
              "      <td>-0.353500</td>\n",
              "      <td>0</td>\n",
              "      <td>2</td>\n",
              "      <td>-0.899420</td>\n",
              "      <td>1</td>\n",
              "      <td>1.326662</td>\n",
              "      <td>1</td>\n",
              "      <td>2</td>\n",
              "      <td>2</td>\n",
              "      <td>1</td>\n",
              "    </tr>\n",
              "    <tr>\n",
              "      <th>3</th>\n",
              "      <td>-1.941680</td>\n",
              "      <td>1</td>\n",
              "      <td>2</td>\n",
              "      <td>-0.095506</td>\n",
              "      <td>0.051047</td>\n",
              "      <td>0</td>\n",
              "      <td>0</td>\n",
              "      <td>1.633010</td>\n",
              "      <td>0</td>\n",
              "      <td>2.099753</td>\n",
              "      <td>2</td>\n",
              "      <td>0</td>\n",
              "      <td>0</td>\n",
              "      <td>0</td>\n",
              "    </tr>\n",
              "    <tr>\n",
              "      <th>4</th>\n",
              "      <td>-1.498933</td>\n",
              "      <td>0</td>\n",
              "      <td>1</td>\n",
              "      <td>-0.095506</td>\n",
              "      <td>-0.835103</td>\n",
              "      <td>0</td>\n",
              "      <td>2</td>\n",
              "      <td>0.978071</td>\n",
              "      <td>0</td>\n",
              "      <td>0.295874</td>\n",
              "      <td>0</td>\n",
              "      <td>0</td>\n",
              "      <td>0</td>\n",
              "      <td>0</td>\n",
              "    </tr>\n",
              "  </tbody>\n",
              "</table>\n",
              "</div>"
            ],
            "text/plain": [
              "        age sex cp    restbp      chol fbs  ... exang   oldpeak slope  ca thal num\n",
              "0  0.936181   1  0  0.750380 -0.276443   1  ...     0  1.068965     2   0    1   0\n",
              "1  1.378929   1  3  1.596266  0.744555   0  ...     1  0.381773     1   3    0   1\n",
              "2  1.378929   1  3 -0.659431 -0.353500   0  ...     1  1.326662     1   2    2   1\n",
              "3 -1.941680   1  2 -0.095506  0.051047   0  ...     0  2.099753     2   0    0   0\n",
              "4 -1.498933   0  1 -0.095506 -0.835103   0  ...     0  0.295874     0   0    0   0\n",
              "\n",
              "[5 rows x 14 columns]"
            ]
          },
          "metadata": {
            "tags": []
          },
          "execution_count": 43
        }
      ]
    },
    {
      "cell_type": "code",
      "metadata": {
        "id": "vRfXxeu1mK_2",
        "colab_type": "code",
        "outputId": "587a02aa-b4d3-4e29-fc13-30d1e032c443",
        "colab": {
          "base_uri": "https://localhost:8080/",
          "height": 336
        }
      },
      "source": [
        "df.info()"
      ],
      "execution_count": 44,
      "outputs": [
        {
          "output_type": "stream",
          "text": [
            "<class 'pandas.core.frame.DataFrame'>\n",
            "Int64Index: 297 entries, 0 to 301\n",
            "Data columns (total 14 columns):\n",
            "age        297 non-null float64\n",
            "sex        297 non-null category\n",
            "cp         297 non-null category\n",
            "restbp     297 non-null float64\n",
            "chol       297 non-null float64\n",
            "fbs        297 non-null category\n",
            "restecg    297 non-null category\n",
            "thalach    297 non-null float64\n",
            "exang      297 non-null category\n",
            "oldpeak    297 non-null float64\n",
            "slope      297 non-null category\n",
            "ca         297 non-null category\n",
            "thal       297 non-null category\n",
            "num        297 non-null int64\n",
            "dtypes: category(8), float64(5), int64(1)\n",
            "memory usage: 29.5 KB\n"
          ],
          "name": "stdout"
        }
      ]
    },
    {
      "cell_type": "markdown",
      "metadata": {
        "id": "f-Baq2crufMq",
        "colab_type": "text"
      },
      "source": [
        "\n",
        "##Split Train/Test Set"
      ]
    },
    {
      "cell_type": "code",
      "metadata": {
        "id": "xl3ZdQxjlTLr",
        "colab_type": "code",
        "colab": {}
      },
      "source": [
        "heart = df.iloc[:, :13]\n",
        "target = df.iloc[:, 13]\n",
        "\n",
        "heart_train, heart_test, target_train, target_test = train_test_split(heart, target, test_size=0.20, random_state=123, stratify = target)"
      ],
      "execution_count": 0,
      "outputs": []
    },
    {
      "cell_type": "markdown",
      "metadata": {
        "id": "AXmgmqGJqAk9",
        "colab_type": "text"
      },
      "source": [
        "##Modeling"
      ]
    },
    {
      "cell_type": "markdown",
      "metadata": {
        "id": "SI7hsblfcdtU",
        "colab_type": "text"
      },
      "source": [
        "###---K Nearest Neighbors Classifier---"
      ]
    },
    {
      "cell_type": "code",
      "metadata": {
        "id": "5FVdqPQ8a6rq",
        "colab_type": "code",
        "outputId": "8d0aff40-7768-4e97-e94f-814605478259",
        "colab": {
          "base_uri": "https://localhost:8080/",
          "height": 34
        }
      },
      "source": [
        "knn = KNeighborsClassifier()\n",
        "\n",
        "knn_result = cross_val_score(knn, heart_train, target_train, cv=5, scoring='accuracy')\n",
        "\n",
        "knn_result.mean()"
      ],
      "execution_count": 65,
      "outputs": [
        {
          "output_type": "execute_result",
          "data": {
            "text/plain": [
              "0.8059936786925685"
            ]
          },
          "metadata": {
            "tags": []
          },
          "execution_count": 65
        }
      ]
    },
    {
      "cell_type": "code",
      "metadata": {
        "id": "-elAbp0aqpqR",
        "colab_type": "code",
        "outputId": "bdcdbfb1-1240-4442-e626-1ca659dbf126",
        "colab": {
          "base_uri": "https://localhost:8080/",
          "height": 218
        }
      },
      "source": [
        "knn.fit(heart_train, target_train)\n",
        "predictions = knn.predict(heart_test)\n",
        "\n",
        "print(accuracy_score(target_test, predictions))\n",
        "print(confusion_matrix(target_test, predictions))\n",
        "print(classification_report(target_test, predictions))"
      ],
      "execution_count": 66,
      "outputs": [
        {
          "output_type": "stream",
          "text": [
            "0.8666666666666667\n",
            "[[27  5]\n",
            " [ 3 25]]\n",
            "              precision    recall  f1-score   support\n",
            "\n",
            "           0       0.90      0.84      0.87        32\n",
            "           1       0.83      0.89      0.86        28\n",
            "\n",
            "    accuracy                           0.87        60\n",
            "   macro avg       0.87      0.87      0.87        60\n",
            "weighted avg       0.87      0.87      0.87        60\n",
            "\n"
          ],
          "name": "stdout"
        }
      ]
    },
    {
      "cell_type": "markdown",
      "metadata": {
        "id": "tmxhRl4UcxM9",
        "colab_type": "text"
      },
      "source": [
        "###---Logistic Regression---"
      ]
    },
    {
      "cell_type": "code",
      "metadata": {
        "id": "00IonFBasrNt",
        "colab_type": "code",
        "outputId": "61fce897-ef23-49ec-ae67-6c47d914a63c",
        "colab": {
          "base_uri": "https://localhost:8080/",
          "height": 222
        }
      },
      "source": [
        "lr = LogisticRegression()\n",
        "\n",
        "lr_result = cross_val_score(lr, heart_train, target_train, cv=5, scoring='accuracy')\n",
        "\n",
        "lr_result.mean()"
      ],
      "execution_count": 67,
      "outputs": [
        {
          "output_type": "stream",
          "text": [
            "/usr/local/lib/python3.6/dist-packages/sklearn/linear_model/logistic.py:432: FutureWarning: Default solver will be changed to 'lbfgs' in 0.22. Specify a solver to silence this warning.\n",
            "  FutureWarning)\n",
            "/usr/local/lib/python3.6/dist-packages/sklearn/linear_model/logistic.py:432: FutureWarning: Default solver will be changed to 'lbfgs' in 0.22. Specify a solver to silence this warning.\n",
            "  FutureWarning)\n",
            "/usr/local/lib/python3.6/dist-packages/sklearn/linear_model/logistic.py:432: FutureWarning: Default solver will be changed to 'lbfgs' in 0.22. Specify a solver to silence this warning.\n",
            "  FutureWarning)\n",
            "/usr/local/lib/python3.6/dist-packages/sklearn/linear_model/logistic.py:432: FutureWarning: Default solver will be changed to 'lbfgs' in 0.22. Specify a solver to silence this warning.\n",
            "  FutureWarning)\n",
            "/usr/local/lib/python3.6/dist-packages/sklearn/linear_model/logistic.py:432: FutureWarning: Default solver will be changed to 'lbfgs' in 0.22. Specify a solver to silence this warning.\n",
            "  FutureWarning)\n"
          ],
          "name": "stderr"
        },
        {
          "output_type": "execute_result",
          "data": {
            "text/plain": [
              "0.8356151711378355"
            ]
          },
          "metadata": {
            "tags": []
          },
          "execution_count": 67
        }
      ]
    },
    {
      "cell_type": "code",
      "metadata": {
        "id": "V6Nrm1_4s8bj",
        "colab_type": "code",
        "outputId": "97f91bad-634b-4d7e-c356-cbeda2c7ba9c",
        "colab": {
          "base_uri": "https://localhost:8080/",
          "height": 272
        }
      },
      "source": [
        "lr.fit(heart_train, target_train)\n",
        "predictions = lr.predict(heart_test)\n",
        "\n",
        "print(accuracy_score(target_test, predictions))\n",
        "print(confusion_matrix(target_test, predictions))\n",
        "print(classification_report(target_test, predictions))"
      ],
      "execution_count": 68,
      "outputs": [
        {
          "output_type": "stream",
          "text": [
            "0.85\n",
            "[[26  6]\n",
            " [ 3 25]]\n",
            "              precision    recall  f1-score   support\n",
            "\n",
            "           0       0.90      0.81      0.85        32\n",
            "           1       0.81      0.89      0.85        28\n",
            "\n",
            "    accuracy                           0.85        60\n",
            "   macro avg       0.85      0.85      0.85        60\n",
            "weighted avg       0.85      0.85      0.85        60\n",
            "\n"
          ],
          "name": "stdout"
        },
        {
          "output_type": "stream",
          "text": [
            "/usr/local/lib/python3.6/dist-packages/sklearn/linear_model/logistic.py:432: FutureWarning: Default solver will be changed to 'lbfgs' in 0.22. Specify a solver to silence this warning.\n",
            "  FutureWarning)\n"
          ],
          "name": "stderr"
        }
      ]
    },
    {
      "cell_type": "markdown",
      "metadata": {
        "id": "hoA60EPvc2Y0",
        "colab_type": "text"
      },
      "source": [
        "###---Random Forest Classifier---"
      ]
    },
    {
      "cell_type": "code",
      "metadata": {
        "id": "nK7NEcCNsOqX",
        "colab_type": "code",
        "outputId": "a0e354a8-d8c3-4e32-ec49-9b7f5eeef13b",
        "colab": {
          "base_uri": "https://localhost:8080/",
          "height": 202
        }
      },
      "source": [
        "rf = RandomForestClassifier()\n",
        "\n",
        "rf_result = cross_val_score(rf, heart_train, target_train, cv=5, scoring='accuracy')\n",
        "\n",
        "rf_result.mean()"
      ],
      "execution_count": 69,
      "outputs": [
        {
          "output_type": "stream",
          "text": [
            "/usr/local/lib/python3.6/dist-packages/sklearn/ensemble/forest.py:245: FutureWarning: The default value of n_estimators will change from 10 in version 0.20 to 100 in 0.22.\n",
            "  \"10 in version 0.20 to 100 in 0.22.\", FutureWarning)\n",
            "/usr/local/lib/python3.6/dist-packages/sklearn/ensemble/forest.py:245: FutureWarning: The default value of n_estimators will change from 10 in version 0.20 to 100 in 0.22.\n",
            "  \"10 in version 0.20 to 100 in 0.22.\", FutureWarning)\n",
            "/usr/local/lib/python3.6/dist-packages/sklearn/ensemble/forest.py:245: FutureWarning: The default value of n_estimators will change from 10 in version 0.20 to 100 in 0.22.\n",
            "  \"10 in version 0.20 to 100 in 0.22.\", FutureWarning)\n",
            "/usr/local/lib/python3.6/dist-packages/sklearn/ensemble/forest.py:245: FutureWarning: The default value of n_estimators will change from 10 in version 0.20 to 100 in 0.22.\n",
            "  \"10 in version 0.20 to 100 in 0.22.\", FutureWarning)\n",
            "/usr/local/lib/python3.6/dist-packages/sklearn/ensemble/forest.py:245: FutureWarning: The default value of n_estimators will change from 10 in version 0.20 to 100 in 0.22.\n",
            "  \"10 in version 0.20 to 100 in 0.22.\", FutureWarning)\n"
          ],
          "name": "stderr"
        },
        {
          "output_type": "execute_result",
          "data": {
            "text/plain": [
              "0.7773743447425223"
            ]
          },
          "metadata": {
            "tags": []
          },
          "execution_count": 69
        }
      ]
    },
    {
      "cell_type": "code",
      "metadata": {
        "id": "RGz82VqJtUPJ",
        "colab_type": "code",
        "outputId": "486a20e2-c5de-4811-e370-8fd0c261f6cf",
        "colab": {
          "base_uri": "https://localhost:8080/",
          "height": 252
        }
      },
      "source": [
        "rf.fit(heart_train, target_train)\n",
        "predictions = rf.predict(heart_test)\n",
        "\n",
        "print(accuracy_score(target_test, predictions))\n",
        "print(confusion_matrix(target_test, predictions))\n",
        "print(classification_report(target_test, predictions))"
      ],
      "execution_count": 70,
      "outputs": [
        {
          "output_type": "stream",
          "text": [
            "0.8833333333333333\n",
            "[[28  4]\n",
            " [ 3 25]]\n",
            "              precision    recall  f1-score   support\n",
            "\n",
            "           0       0.90      0.88      0.89        32\n",
            "           1       0.86      0.89      0.88        28\n",
            "\n",
            "    accuracy                           0.88        60\n",
            "   macro avg       0.88      0.88      0.88        60\n",
            "weighted avg       0.88      0.88      0.88        60\n",
            "\n"
          ],
          "name": "stdout"
        },
        {
          "output_type": "stream",
          "text": [
            "/usr/local/lib/python3.6/dist-packages/sklearn/ensemble/forest.py:245: FutureWarning: The default value of n_estimators will change from 10 in version 0.20 to 100 in 0.22.\n",
            "  \"10 in version 0.20 to 100 in 0.22.\", FutureWarning)\n"
          ],
          "name": "stderr"
        }
      ]
    },
    {
      "cell_type": "markdown",
      "metadata": {
        "id": "fUPFnxa8c-Xr",
        "colab_type": "text"
      },
      "source": [
        "###Compare Model Performance with AUC curve"
      ]
    },
    {
      "cell_type": "code",
      "metadata": {
        "id": "N9vhAm0QuuMM",
        "colab_type": "code",
        "outputId": "b75b4182-7e07-476f-efd3-d003f279761b",
        "colab": {
          "base_uri": "https://localhost:8080/",
          "height": 295
        }
      },
      "source": [
        "from sklearn.metrics import roc_curve\n",
        "lr_fpr, lr_tpr, lr_thresholds = roc_curve(target_test, lr.predict_proba(heart_test)[:, 1])\n",
        "lr_auc = roc_auc_score(target_test, lr.predict(heart_test))\n",
        "\n",
        "rf_fpr, rf_tpr, rf_thresholds = roc_curve(target_test, rf.predict_proba(heart_test)[:, 1])\n",
        "rf_auc = roc_auc_score(target_test, rf.predict(heart_test))\n",
        "\n",
        "knn_fpr, knn_tpr, knn_thresholds = roc_curve(target_test, knn.predict_proba(heart_test)[:, 1])\n",
        "knn_auc = roc_auc_score(target_test, knn.predict(heart_test))\n",
        "\n",
        "plt.figure()\n",
        "\n",
        "plt.plot(knn_fpr, knn_tpr, label = 'K Nearest Neighbors Classifier (area = %0.2f)' % knn_auc)\n",
        "plt.plot(lr_fpr, lr_tpr, label = 'Logistic Regression (area = %0.2f)' % lr_auc)\n",
        "plt.plot(rf_fpr, rf_tpr, label = 'Random Forest Classifier (area = %0.2f)' %rf_auc)\n",
        "\n",
        "plt.plot([0,1], [0,1], label='Base Rate')\n",
        "\n",
        "plt.xlim([0.0, 1.0])\n",
        "plt.ylim([0.0, 1.05])\n",
        "plt.xlabel('False Positive Rate')\n",
        "plt.ylabel('True Positive Rate')\n",
        "plt.title ('ROC graph')\n",
        "plt.legend(loc='lower right')\n",
        "\n",
        "plt.show()"
      ],
      "execution_count": 71,
      "outputs": [
        {
          "output_type": "display_data",
          "data": {
            "image/png": "[encoded data removed]",
            "text/plain": [
              "<Figure size 432x288 with 1 Axes>"
            ]
          },
          "metadata": {
            "tags": []
          }
        }
      ]
    },
    {
      "cell_type": "markdown",
      "metadata": {
        "id": "VpNG4KcwdGrz",
        "colab_type": "text"
      },
      "source": [
        "Overall, the models performed similarly. The winner is the random forest classifier, but it's not likely that its performance is significantly different from the others. Nevertheless, I will try to tune the hyperparameters for the random forest classifier."
      ]
    },
    {
      "cell_type": "markdown",
      "metadata": {
        "id": "F2r6e-Ajdxjp",
        "colab_type": "text"
      },
      "source": [
        "###Hyperparameter Tuning for Random Forest Classifier"
      ]
    },
    {
      "cell_type": "code",
      "metadata": {
        "id": "b3JSZ3PgL5nF",
        "colab_type": "code",
        "outputId": "e560a9b7-b357-471f-c77f-4cb0bb71edfb",
        "colab": {
          "base_uri": "https://localhost:8080/",
          "height": 390
        }
      },
      "source": [
        "tuned_parameters = [{'n_estimators': [10, 30, 50, 70, 90, 110, 130, 150], 'max_features': ['auto', 'log2', None]}]\n",
        "grid = GridSearchCV(rf, tuned_parameters, cv=5, scoring = \"accuracy\")  \n",
        "grid.fit(heart_train, target_train)"
      ],
      "execution_count": 73,
      "outputs": [
        {
          "output_type": "stream",
          "text": [
            "/usr/local/lib/python3.6/dist-packages/sklearn/model_selection/_search.py:813: DeprecationWarning: The default of the `iid` parameter will change from True to False in version 0.22 and will be removed in 0.24. This will change numeric results when test-set sizes are unequal.\n",
            "  DeprecationWarning)\n"
          ],
          "name": "stderr"
        },
        {
          "output_type": "execute_result",
          "data": {
            "text/plain": [
              "GridSearchCV(cv=5, error_score='raise-deprecating',\n",
              "             estimator=RandomForestClassifier(bootstrap=True, class_weight=None,\n",
              "                                              criterion='gini', max_depth=None,\n",
              "                                              max_features='auto',\n",
              "                                              max_leaf_nodes=None,\n",
              "                                              min_impurity_decrease=0.0,\n",
              "                                              min_impurity_split=None,\n",
              "                                              min_samples_leaf=1,\n",
              "                                              min_samples_split=2,\n",
              "                                              min_weight_fraction_leaf=0.0,\n",
              "                                              n_estimators=10, n_jobs=None,\n",
              "                                              oob_score=False,\n",
              "                                              random_state=None, verbose=0,\n",
              "                                              warm_start=False),\n",
              "             iid='warn', n_jobs=None,\n",
              "             param_grid=[{'max_features': ['auto', 'log2', None],\n",
              "                          'n_estimators': [10, 30, 50, 70, 90, 110, 130, 150]}],\n",
              "             pre_dispatch='2*n_jobs', refit=True, return_train_score=False,\n",
              "             scoring='accuracy', verbose=0)"
            ]
          },
          "metadata": {
            "tags": []
          },
          "execution_count": 73
        }
      ]
    },
    {
      "cell_type": "code",
      "metadata": {
        "id": "OI8whisIYeRj",
        "colab_type": "code",
        "outputId": "66647c80-e810-4a81-81cd-daa80367a353",
        "colab": {
          "base_uri": "https://localhost:8080/",
          "height": 34
        }
      },
      "source": [
        "print(grid.best_params_)"
      ],
      "execution_count": 74,
      "outputs": [
        {
          "output_type": "stream",
          "text": [
            "{'max_features': 'log2', 'n_estimators': 90}\n"
          ],
          "name": "stdout"
        }
      ]
    },
    {
      "cell_type": "code",
      "metadata": {
        "id": "cmjn5oXbZnUw",
        "colab_type": "code",
        "outputId": "96667bae-10de-49bb-cc81-9533f39919da",
        "colab": {
          "base_uri": "https://localhost:8080/",
          "height": 34
        }
      },
      "source": [
        "rf2 = RandomForestClassifier(n_estimators = 90, max_features='log2')\n",
        "\n",
        "rf2_result = cross_val_score(rf2, heart_train, target_train, cv=5, scoring='accuracy')\n",
        "\n",
        "rf2_result.mean()"
      ],
      "execution_count": 75,
      "outputs": [
        {
          "output_type": "execute_result",
          "data": {
            "text/plain": [
              "0.819041011409189"
            ]
          },
          "metadata": {
            "tags": []
          },
          "execution_count": 75
        }
      ]
    },
    {
      "cell_type": "code",
      "metadata": {
        "id": "kg6kyo06Z69P",
        "colab_type": "code",
        "outputId": "398ab3e4-dd08-4d10-e3e9-ca88acee4c55",
        "colab": {
          "base_uri": "https://localhost:8080/",
          "height": 235
        }
      },
      "source": [
        "rf2.fit(heart_train, target_train)\n",
        "predictions = rf2.predict(heart_test)\n",
        "\n",
        "print(accuracy_score(target_test, predictions))\n",
        "print(confusion_matrix(target_test, predictions))\n",
        "print(classification_report(target_test, predictions))\n",
        "print(roc_auc_score(target_test, predictions))"
      ],
      "execution_count": 76,
      "outputs": [
        {
          "output_type": "stream",
          "text": [
            "0.8833333333333333\n",
            "[[28  4]\n",
            " [ 3 25]]\n",
            "              precision    recall  f1-score   support\n",
            "\n",
            "           0       0.90      0.88      0.89        32\n",
            "           1       0.86      0.89      0.88        28\n",
            "\n",
            "    accuracy                           0.88        60\n",
            "   macro avg       0.88      0.88      0.88        60\n",
            "weighted avg       0.88      0.88      0.88        60\n",
            "\n",
            "0.8839285714285714\n"
          ],
          "name": "stdout"
        }
      ]
    },
    {
      "cell_type": "markdown",
      "metadata": {
        "id": "DQq6fzHvejiN",
        "colab_type": "text"
      },
      "source": [
        "After hyperparameter tuning, the model had higher accuracy on the training data and about the same performance on the test data. Since there is not much of a difference between the two models, I will continue to use the original parameters. "
      ]
    },
    {
      "cell_type": "markdown",
      "metadata": {
        "id": "ijxIQ2nrevdp",
        "colab_type": "text"
      },
      "source": [
        "###Feature Importance"
      ]
    },
    {
      "cell_type": "code",
      "metadata": {
        "id": "i_yJSwKIxMpm",
        "colab_type": "code",
        "outputId": "a6cc4a49-45df-450e-8745-bb00ae594a75",
        "colab": {
          "base_uri": "https://localhost:8080/",
          "height": 470
        }
      },
      "source": [
        "#Extract feature importance from Random Forest Classifier\n",
        "\n",
        "feature_importances = pd.DataFrame(rf.feature_importances_, index = heart_train.columns, columns = ['importance']).sort_values('importance', ascending=False)\n",
        "feature_importances = feature_importances.reset_index()\n",
        "\n",
        "sns.set(style=\"whitegrid\")\n",
        "\n",
        "f, ax = plt.subplots(figsize=(13, 7))\n",
        "\n",
        "sns.barplot(x=\"importance\", y='index', data=feature_importances, label='Total')"
      ],
      "execution_count": 77,
      "outputs": [
        {
          "output_type": "execute_result",
          "data": {
            "text/plain": [
              "<matplotlib.axes._subplots.AxesSubplot at 0x7fb98efeac88>"
            ]
          },
          "metadata": {
            "tags": []
          },
          "execution_count": 77
        },
        {
          "output_type": "display_data",
          "data": {
            "image/png": "[encoded data removed]",
            "text/plain": [
              "<Figure size 936x504 with 1 Axes>"
            ]
          },
          "metadata": {
            "tags": []
          }
        }
      ]
    },
    {
      "cell_type": "markdown",
      "metadata": {
        "id": "0QLwXVcQfNUv",
        "colab_type": "text"
      },
      "source": [
        "To understand which are the most important features, I will add a column of random noise to the data and check it's importance measure against the other features. "
      ]
    },
    {
      "cell_type": "code",
      "metadata": {
        "id": "IUjrxiAdG5e3",
        "colab_type": "code",
        "outputId": "8c4de2dd-b957-4059-d968-4b88a91a2f35",
        "colab": {
          "base_uri": "https://localhost:8080/",
          "height": 504
        }
      },
      "source": [
        "#Add a column of random noise and re-plot feature importance\n",
        "\n",
        "heart_train_rnoise = pd.DataFrame(heart_train)\n",
        "heart_train_rnoise['RANDOM_NOISE'] = np.random.normal(0, 1, heart_train_rnoise.shape[0])\n",
        "\n",
        "rf_random = RandomForestClassifier()\n",
        "rf_random = rf_random.fit(heart_train_rnoise, target_train)\n",
        "\n",
        "feature_importances_random = pd.DataFrame(rf_random.feature_importances_, index = heart_train_rnoise.columns, columns = ['importance']).sort_values('importance', ascending=False)\n",
        "feature_importances_random = feature_importances_random.reset_index()\n",
        "\n",
        "sns.set(style='whitegrid')\n",
        "\n",
        "f, ax = plt.subplots(figsize=(13, 7))\n",
        "\n",
        "sns.barplot(x=\"importance\", y='index', data=feature_importances_random, label='Total')"
      ],
      "execution_count": 80,
      "outputs": [
        {
          "output_type": "stream",
          "text": [
            "/usr/local/lib/python3.6/dist-packages/sklearn/ensemble/forest.py:245: FutureWarning: The default value of n_estimators will change from 10 in version 0.20 to 100 in 0.22.\n",
            "  \"10 in version 0.20 to 100 in 0.22.\", FutureWarning)\n"
          ],
          "name": "stderr"
        },
        {
          "output_type": "execute_result",
          "data": {
            "text/plain": [
              "<matplotlib.axes._subplots.AxesSubplot at 0x7fb98eef1048>"
            ]
          },
          "metadata": {
            "tags": []
          },
          "execution_count": 80
        },
        {
          "output_type": "display_data",
          "data": {
            "image/png": "[encoded data removed]",
            "text/plain": [
              "<Figure size 936x504 with 1 Axes>"
            ]
          },
          "metadata": {
            "tags": []
          }
        }
      ]
    },
    {
      "cell_type": "markdown",
      "metadata": {
        "id": "73GNsnb8fio7",
        "colab_type": "text"
      },
      "source": [
        "I will consider everything above RANDOM_NOISE to be the most important features for the classification problem. These features include thalach (maximum heart rate achieved), thal, age, ca (number of major vessels colored by fluoroscopy), cp (chest pain type), and oldpeak (ST depression induced by exercise relative to rest). I am not including restbp since it's importance is about the same as random noise.   "
      ]
    },
    {
      "cell_type": "markdown",
      "metadata": {
        "id": "vTOpMad1jcTa",
        "colab_type": "text"
      },
      "source": [
        "##Conclusion"
      ]
    },
    {
      "cell_type": "markdown",
      "metadata": {
        "id": "HBq74Tm0jepY",
        "colab_type": "text"
      },
      "source": [
        "The three models tested (K Nearest Neighbors, Logistic Regression, and Random Forest Classifier) performed similarly in the classification of heart disease with AUC scores of .87, .85, and .88, respectively. \n",
        "\n",
        "The most important feature for classification appears to be **thalach** (maximum heart rate achieved). From the EDA we saw that people with heart disease had a lower maximum heart rate than people without heart disease. The second-highest ranked feature is **thal**,  but there's little information provided for this feature. Upon a quick google search, I suspect this may refer to a thallium stress test, which can be used to identify reversible and fixed heart defects. It is intuitive that a test that detects heart defects would be a good predictor of heart disease. **Age** was also a good predictor of heart disease. The EDA showed that patients with heart disease tended to be older than patients without heart disease. Next is **ca**, the number of major vessels colored by fluoroscopy. I suspect that ca refers to calcium and that this is a test to detect calcified plaques in the vessels of the heart. These plaques can block blood vessels in the heart, and they indicate coronary artery disease. It follows that having 1 or more vessels colored by fluoroscopy is indicative of heart disease. The type of chest pain, **cp** was also predictive of heart disease. As noted in the EDA section, there were more asymptomatic patients in the heart disease category than in no heart disease, and more patients with different types of chest pain in the no heart disease group. This seems counterintuitive, and it would be worth following up with an expert on this finding. Finally, **oldpeak** (the ST depression induced by exercise relative to rest) was another predictor of heart disease, and it appears that higher ST depression is related to heart disease. In fact, ST depression is associated with cardiac ischemia and infarction (1). "
      ]
    },
    {
      "cell_type": "markdown",
      "metadata": {
        "id": "hjKGGV5h7WJ8",
        "colab_type": "text"
      },
      "source": [
        "1. T Pollehn, W J Brady, A D Perron, F Morris, The electrocardiographic differential diagnosis of ST segment depression. Emergency Medicine Journal 19, 129–135 (2002)."
      ]
    }
  ]
}