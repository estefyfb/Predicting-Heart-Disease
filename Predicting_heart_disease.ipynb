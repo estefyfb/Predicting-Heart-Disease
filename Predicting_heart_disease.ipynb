{
  "nbformat": 4,
  "nbformat_minor": 0,
  "metadata": {
    "colab": {
      "name": "Predicting heart disease.ipynb",
      "version": "0.3.2",
      "provenance": [],
      "collapsed_sections": []
    },
    "language_info": {
      "codemirror_mode": {
        "name": "ipython",
        "version": 3
      },
      "file_extension": ".py",
      "mimetype": "text/x-python",
      "name": "python",
      "nbconvert_exporter": "python",
      "pygments_lexer": "ipython3",
      "version": "3.6.4"
    },
    "kernelspec": {
      "display_name": "Python 3",
      "language": "python",
      "name": "python3"
    }
  },
  "cells": [
    {
      "metadata": {
        "id": "Wz5cgQo9ufMQ",
        "colab_type": "text"
      },
      "cell_type": "markdown",
      "source": [
        "# Predicting Heart Disease"
      ]
    },
    {
      "metadata": {
        "id": "2cCTzBw2ufMS",
        "colab_type": "text"
      },
      "cell_type": "markdown",
      "source": [
        "## Task and dataset description"
      ]
    },
    {
      "metadata": {
        "id": "8jLdXGufufMU",
        "colab_type": "text"
      },
      "cell_type": "markdown",
      "source": [
        "The task is to predict whether a subject has heart disease based on 13 attributes. The \"Heart Disease Data Set\" can be found at https://archive.ics.uci.edu/ml/datasets/Heart+Disease. Each observation represents a subject, and there is a total of 303 observations. The following is a description of the attributes: \n",
        "\n",
        "1. age  \n",
        "2. sex (1 = male; 0 = female) \n",
        "3. cp: chest pain type (1 = typical angina, 2 = atypical angina, 3 = non-anginal pain, 4 = asymptomatic)\n",
        "4. restbps: resting blood pressure (in mm Hg on admission to the hospital) \n",
        "5. chol: serum cholesterol in mg/dl \n",
        "6. fbs: (fasting blood sugar > 120 mg/dl) (1 = true; 0 = false)  \n",
        "7. restecg: resting electrocardiographic results \n",
        "      --  0 = normal \n",
        "      --  1 = having ST-T wave abnormality (T wave inversions and/or ST elevation or depression of > 0.05 mV) \n",
        "      --  2 = showing probable or definite left ventricular hypertrophy by Estes' criteria \n",
        "8. thalach: maximum heart rate achieved \n",
        "9. exang: exercise induced angina (1 = yes; 0 = no) \n",
        "10. oldpeak = ST depression induced by exercise relative to rest \n",
        "11. slope: the slope of the peak exercise ST segment  (1 = upsloping, 2 = flat, 3 = downsloping)\n",
        "12. ca: number of major vessels (0-3) colored by flourosopy \n",
        "13. thal (3 = normal; 6 = fixed defect; 7 = reversable defect) \n",
        "14. number: diagnosis of heart disease (angiographic disease status) \n",
        "      -- 0: < 50% diameter narrowing (no heart disease) \n",
        "      -- 1-4: > 50% diameter narrowing  (heart disease)\n"
      ]
    },
    {
      "metadata": {
        "id": "lLZS8mM1ufMV",
        "colab_type": "code",
        "colab": {}
      },
      "cell_type": "code",
      "source": [
        "#import libraries\n",
        "import pandas as pd\n",
        "import numpy as np\n",
        "import sklearn as sk\n",
        "import matplotlib.pyplot as plt\n",
        "import seaborn as sns\n",
        "from sklearn.preprocessing import LabelEncoder\n",
        "from sklearn.preprocessing import StandardScaler\n",
        "from sklearn.linear_model import LogisticRegression\n",
        "from sklearn.tree import DecisionTreeClassifier\n",
        "from sklearn.ensemble import RandomForestClassifier\n",
        "from sklearn.neighbors import KNeighborsClassifier\n",
        "from sklearn.model_selection import train_test_split, cross_val_score, GridSearchCV\n",
        "from sklearn.metrics import accuracy_score, classification_report, precision_score, recall_score, confusion_matrix, precision_recall_curve, f1_score, roc_auc_score\n",
        "\n",
        "__author__ = \"Estefy Fiallos\"\n",
        "__email__ = \"estefy.b.fiallos@gmail.com\""
      ],
      "execution_count": 0,
      "outputs": []
    },
    {
      "metadata": {
        "id": "51lWBsHwufMb",
        "colab_type": "text"
      },
      "cell_type": "markdown",
      "source": [
        "\n",
        "## Load the data"
      ]
    },
    {
      "metadata": {
        "id": "PA5lvtiHFmty",
        "colab_type": "code",
        "outputId": "fdf2e47b-0f48-483f-834e-2acd430efe00",
        "colab": {
          "base_uri": "https://localhost:8080/",
          "height": 195
        }
      },
      "cell_type": "code",
      "source": [
        "#load the data into a Pandas dataframe\n",
        "columns = [\"age\", \"sex\", \"cp\", \"restbp\", \"chol\", \"fbs\", \"restecg\", \n",
        "           \"thalach\", \"exang\", \"oldpeak\", \"slope\", \"ca\", \"thal\", \"num\"]\n",
        "df = pd.read_csv(\"http://archive.ics.uci.edu/ml/machine-learning-databases/heart-disease/processed.cleveland.data\", header=None, names=columns)\n",
        "\n",
        "df.head()"
      ],
      "execution_count": 15,
      "outputs": [
        {
          "output_type": "execute_result",
          "data": {
            "text/html": [
              "<div>\n",
              "<style scoped>\n",
              "    .dataframe tbody tr th:only-of-type {\n",
              "        vertical-align: middle;\n",
              "    }\n",
              "\n",
              "    .dataframe tbody tr th {\n",
              "        vertical-align: top;\n",
              "    }\n",
              "\n",
              "    .dataframe thead th {\n",
              "        text-align: right;\n",
              "    }\n",
              "</style>\n",
              "<table border=\"1\" class=\"dataframe\">\n",
              "  <thead>\n",
              "    <tr style=\"text-align: right;\">\n",
              "      <th></th>\n",
              "      <th>age</th>\n",
              "      <th>sex</th>\n",
              "      <th>cp</th>\n",
              "      <th>restbp</th>\n",
              "      <th>chol</th>\n",
              "      <th>fbs</th>\n",
              "      <th>restecg</th>\n",
              "      <th>thalach</th>\n",
              "      <th>exang</th>\n",
              "      <th>oldpeak</th>\n",
              "      <th>slope</th>\n",
              "      <th>ca</th>\n",
              "      <th>thal</th>\n",
              "      <th>num</th>\n",
              "    </tr>\n",
              "  </thead>\n",
              "  <tbody>\n",
              "    <tr>\n",
              "      <th>0</th>\n",
              "      <td>63.0</td>\n",
              "      <td>1.0</td>\n",
              "      <td>1.0</td>\n",
              "      <td>145.0</td>\n",
              "      <td>233.0</td>\n",
              "      <td>1.0</td>\n",
              "      <td>2.0</td>\n",
              "      <td>150.0</td>\n",
              "      <td>0.0</td>\n",
              "      <td>2.3</td>\n",
              "      <td>3.0</td>\n",
              "      <td>0.0</td>\n",
              "      <td>6.0</td>\n",
              "      <td>0</td>\n",
              "    </tr>\n",
              "    <tr>\n",
              "      <th>1</th>\n",
              "      <td>67.0</td>\n",
              "      <td>1.0</td>\n",
              "      <td>4.0</td>\n",
              "      <td>160.0</td>\n",
              "      <td>286.0</td>\n",
              "      <td>0.0</td>\n",
              "      <td>2.0</td>\n",
              "      <td>108.0</td>\n",
              "      <td>1.0</td>\n",
              "      <td>1.5</td>\n",
              "      <td>2.0</td>\n",
              "      <td>3.0</td>\n",
              "      <td>3.0</td>\n",
              "      <td>2</td>\n",
              "    </tr>\n",
              "    <tr>\n",
              "      <th>2</th>\n",
              "      <td>67.0</td>\n",
              "      <td>1.0</td>\n",
              "      <td>4.0</td>\n",
              "      <td>120.0</td>\n",
              "      <td>229.0</td>\n",
              "      <td>0.0</td>\n",
              "      <td>2.0</td>\n",
              "      <td>129.0</td>\n",
              "      <td>1.0</td>\n",
              "      <td>2.6</td>\n",
              "      <td>2.0</td>\n",
              "      <td>2.0</td>\n",
              "      <td>7.0</td>\n",
              "      <td>1</td>\n",
              "    </tr>\n",
              "    <tr>\n",
              "      <th>3</th>\n",
              "      <td>37.0</td>\n",
              "      <td>1.0</td>\n",
              "      <td>3.0</td>\n",
              "      <td>130.0</td>\n",
              "      <td>250.0</td>\n",
              "      <td>0.0</td>\n",
              "      <td>0.0</td>\n",
              "      <td>187.0</td>\n",
              "      <td>0.0</td>\n",
              "      <td>3.5</td>\n",
              "      <td>3.0</td>\n",
              "      <td>0.0</td>\n",
              "      <td>3.0</td>\n",
              "      <td>0</td>\n",
              "    </tr>\n",
              "    <tr>\n",
              "      <th>4</th>\n",
              "      <td>41.0</td>\n",
              "      <td>0.0</td>\n",
              "      <td>2.0</td>\n",
              "      <td>130.0</td>\n",
              "      <td>204.0</td>\n",
              "      <td>0.0</td>\n",
              "      <td>2.0</td>\n",
              "      <td>172.0</td>\n",
              "      <td>0.0</td>\n",
              "      <td>1.4</td>\n",
              "      <td>1.0</td>\n",
              "      <td>0.0</td>\n",
              "      <td>3.0</td>\n",
              "      <td>0</td>\n",
              "    </tr>\n",
              "  </tbody>\n",
              "</table>\n",
              "</div>"
            ],
            "text/plain": [
              "    age  sex   cp  restbp   chol  fbs  restecg  thalach  exang  oldpeak  \\\n",
              "0  63.0  1.0  1.0   145.0  233.0  1.0      2.0    150.0    0.0      2.3   \n",
              "1  67.0  1.0  4.0   160.0  286.0  0.0      2.0    108.0    1.0      1.5   \n",
              "2  67.0  1.0  4.0   120.0  229.0  0.0      2.0    129.0    1.0      2.6   \n",
              "3  37.0  1.0  3.0   130.0  250.0  0.0      0.0    187.0    0.0      3.5   \n",
              "4  41.0  0.0  2.0   130.0  204.0  0.0      2.0    172.0    0.0      1.4   \n",
              "\n",
              "   slope   ca thal  num  \n",
              "0    3.0  0.0  6.0    0  \n",
              "1    2.0  3.0  3.0    2  \n",
              "2    2.0  2.0  7.0    1  \n",
              "3    3.0  0.0  3.0    0  \n",
              "4    1.0  0.0  3.0    0  "
            ]
          },
          "metadata": {
            "tags": []
          },
          "execution_count": 15
        }
      ]
    },
    {
      "metadata": {
        "id": "YUc0IvywufMg",
        "colab_type": "text"
      },
      "cell_type": "markdown",
      "source": [
        "##Data Quality Check"
      ]
    },
    {
      "metadata": {
        "id": "k5lzystnufMh",
        "colab_type": "code",
        "outputId": "20f10ab7-ec98-44b4-c3ee-def643fc4ecc",
        "colab": {
          "base_uri": "https://localhost:8080/",
          "height": 269
        }
      },
      "cell_type": "code",
      "source": [
        "#look for missing values\n",
        "df.isnull().any()"
      ],
      "execution_count": 16,
      "outputs": [
        {
          "output_type": "execute_result",
          "data": {
            "text/plain": [
              "age        False\n",
              "sex        False\n",
              "cp         False\n",
              "restbp     False\n",
              "chol       False\n",
              "fbs        False\n",
              "restecg    False\n",
              "thalach    False\n",
              "exang      False\n",
              "oldpeak    False\n",
              "slope      False\n",
              "ca         False\n",
              "thal       False\n",
              "num        False\n",
              "dtype: bool"
            ]
          },
          "metadata": {
            "tags": []
          },
          "execution_count": 16
        }
      ]
    },
    {
      "metadata": {
        "id": "-Kiz0Ta1HwJM",
        "colab_type": "code",
        "outputId": "2cab7195-e394-4c13-e85f-876cbc2f76e6",
        "colab": {
          "base_uri": "https://localhost:8080/",
          "height": 336
        }
      },
      "cell_type": "code",
      "source": [
        "df.info()"
      ],
      "execution_count": 17,
      "outputs": [
        {
          "output_type": "stream",
          "text": [
            "<class 'pandas.core.frame.DataFrame'>\n",
            "RangeIndex: 303 entries, 0 to 302\n",
            "Data columns (total 14 columns):\n",
            "age        303 non-null float64\n",
            "sex        303 non-null float64\n",
            "cp         303 non-null float64\n",
            "restbp     303 non-null float64\n",
            "chol       303 non-null float64\n",
            "fbs        303 non-null float64\n",
            "restecg    303 non-null float64\n",
            "thalach    303 non-null float64\n",
            "exang      303 non-null float64\n",
            "oldpeak    303 non-null float64\n",
            "slope      303 non-null float64\n",
            "ca         303 non-null object\n",
            "thal       303 non-null object\n",
            "num        303 non-null int64\n",
            "dtypes: float64(11), int64(1), object(2)\n",
            "memory usage: 33.2+ KB\n"
          ],
          "name": "stdout"
        }
      ]
    },
    {
      "metadata": {
        "id": "_gsdrtkdKis6",
        "colab_type": "code",
        "colab": {
          "base_uri": "https://localhost:8080/",
          "height": 336
        },
        "outputId": "46c269a9-9dd8-443b-d785-7a8be7bfc93c"
      },
      "cell_type": "code",
      "source": [
        "#Convert discrete features to integers\n",
        "\n",
        "categorical_features=['sex','cp', 'fbs', 'restecg', 'exang', 'slope', 'ca', 'thal']\n",
        "\n",
        "encoders = dict() \n",
        "\n",
        "for i in categorical_features:\n",
        "  encoders[i] = LabelEncoder()\n",
        "  df[i] = encoders[i].fit_transform(df[i])\n",
        "  \n",
        "df.info()"
      ],
      "execution_count": 18,
      "outputs": [
        {
          "output_type": "stream",
          "text": [
            "<class 'pandas.core.frame.DataFrame'>\n",
            "RangeIndex: 303 entries, 0 to 302\n",
            "Data columns (total 14 columns):\n",
            "age        303 non-null float64\n",
            "sex        303 non-null int64\n",
            "cp         303 non-null int64\n",
            "restbp     303 non-null float64\n",
            "chol       303 non-null float64\n",
            "fbs        303 non-null int64\n",
            "restecg    303 non-null int64\n",
            "thalach    303 non-null float64\n",
            "exang      303 non-null int64\n",
            "oldpeak    303 non-null float64\n",
            "slope      303 non-null int64\n",
            "ca         303 non-null int64\n",
            "thal       303 non-null int64\n",
            "num        303 non-null int64\n",
            "dtypes: float64(5), int64(9)\n",
            "memory usage: 33.2 KB\n"
          ],
          "name": "stdout"
        }
      ]
    },
    {
      "metadata": {
        "id": "zOHBJGI1L1vz",
        "colab_type": "code",
        "colab": {
          "base_uri": "https://localhost:8080/",
          "height": 195
        },
        "outputId": "860e80e6-b3f6-49ee-81dd-7b089a631164"
      },
      "cell_type": "code",
      "source": [
        "df.head()"
      ],
      "execution_count": 19,
      "outputs": [
        {
          "output_type": "execute_result",
          "data": {
            "text/html": [
              "<div>\n",
              "<style scoped>\n",
              "    .dataframe tbody tr th:only-of-type {\n",
              "        vertical-align: middle;\n",
              "    }\n",
              "\n",
              "    .dataframe tbody tr th {\n",
              "        vertical-align: top;\n",
              "    }\n",
              "\n",
              "    .dataframe thead th {\n",
              "        text-align: right;\n",
              "    }\n",
              "</style>\n",
              "<table border=\"1\" class=\"dataframe\">\n",
              "  <thead>\n",
              "    <tr style=\"text-align: right;\">\n",
              "      <th></th>\n",
              "      <th>age</th>\n",
              "      <th>sex</th>\n",
              "      <th>cp</th>\n",
              "      <th>restbp</th>\n",
              "      <th>chol</th>\n",
              "      <th>fbs</th>\n",
              "      <th>restecg</th>\n",
              "      <th>thalach</th>\n",
              "      <th>exang</th>\n",
              "      <th>oldpeak</th>\n",
              "      <th>slope</th>\n",
              "      <th>ca</th>\n",
              "      <th>thal</th>\n",
              "      <th>num</th>\n",
              "    </tr>\n",
              "  </thead>\n",
              "  <tbody>\n",
              "    <tr>\n",
              "      <th>0</th>\n",
              "      <td>63.0</td>\n",
              "      <td>1</td>\n",
              "      <td>0</td>\n",
              "      <td>145.0</td>\n",
              "      <td>233.0</td>\n",
              "      <td>1</td>\n",
              "      <td>2</td>\n",
              "      <td>150.0</td>\n",
              "      <td>0</td>\n",
              "      <td>2.3</td>\n",
              "      <td>2</td>\n",
              "      <td>0</td>\n",
              "      <td>1</td>\n",
              "      <td>0</td>\n",
              "    </tr>\n",
              "    <tr>\n",
              "      <th>1</th>\n",
              "      <td>67.0</td>\n",
              "      <td>1</td>\n",
              "      <td>3</td>\n",
              "      <td>160.0</td>\n",
              "      <td>286.0</td>\n",
              "      <td>0</td>\n",
              "      <td>2</td>\n",
              "      <td>108.0</td>\n",
              "      <td>1</td>\n",
              "      <td>1.5</td>\n",
              "      <td>1</td>\n",
              "      <td>3</td>\n",
              "      <td>0</td>\n",
              "      <td>2</td>\n",
              "    </tr>\n",
              "    <tr>\n",
              "      <th>2</th>\n",
              "      <td>67.0</td>\n",
              "      <td>1</td>\n",
              "      <td>3</td>\n",
              "      <td>120.0</td>\n",
              "      <td>229.0</td>\n",
              "      <td>0</td>\n",
              "      <td>2</td>\n",
              "      <td>129.0</td>\n",
              "      <td>1</td>\n",
              "      <td>2.6</td>\n",
              "      <td>1</td>\n",
              "      <td>2</td>\n",
              "      <td>2</td>\n",
              "      <td>1</td>\n",
              "    </tr>\n",
              "    <tr>\n",
              "      <th>3</th>\n",
              "      <td>37.0</td>\n",
              "      <td>1</td>\n",
              "      <td>2</td>\n",
              "      <td>130.0</td>\n",
              "      <td>250.0</td>\n",
              "      <td>0</td>\n",
              "      <td>0</td>\n",
              "      <td>187.0</td>\n",
              "      <td>0</td>\n",
              "      <td>3.5</td>\n",
              "      <td>2</td>\n",
              "      <td>0</td>\n",
              "      <td>0</td>\n",
              "      <td>0</td>\n",
              "    </tr>\n",
              "    <tr>\n",
              "      <th>4</th>\n",
              "      <td>41.0</td>\n",
              "      <td>0</td>\n",
              "      <td>1</td>\n",
              "      <td>130.0</td>\n",
              "      <td>204.0</td>\n",
              "      <td>0</td>\n",
              "      <td>2</td>\n",
              "      <td>172.0</td>\n",
              "      <td>0</td>\n",
              "      <td>1.4</td>\n",
              "      <td>0</td>\n",
              "      <td>0</td>\n",
              "      <td>0</td>\n",
              "      <td>0</td>\n",
              "    </tr>\n",
              "  </tbody>\n",
              "</table>\n",
              "</div>"
            ],
            "text/plain": [
              "    age  sex  cp  restbp   chol  fbs  restecg  thalach  exang  oldpeak  slope  \\\n",
              "0  63.0    1   0   145.0  233.0    1        2    150.0      0      2.3      2   \n",
              "1  67.0    1   3   160.0  286.0    0        2    108.0      1      1.5      1   \n",
              "2  67.0    1   3   120.0  229.0    0        2    129.0      1      2.6      1   \n",
              "3  37.0    1   2   130.0  250.0    0        0    187.0      0      3.5      2   \n",
              "4  41.0    0   1   130.0  204.0    0        2    172.0      0      1.4      0   \n",
              "\n",
              "   ca  thal  num  \n",
              "0   0     1    0  \n",
              "1   3     0    2  \n",
              "2   2     2    1  \n",
              "3   0     0    0  \n",
              "4   0     0    0  "
            ]
          },
          "metadata": {
            "tags": []
          },
          "execution_count": 19
        }
      ]
    },
    {
      "metadata": {
        "id": "k55H0p8J-OSG",
        "colab_type": "code",
        "colab": {
          "base_uri": "https://localhost:8080/",
          "height": 195
        },
        "outputId": "ad3e3e40-8ec4-48fc-9390-4c861ee4e9cb"
      },
      "cell_type": "code",
      "source": [
        "#Change target variable 'num' to binary: 0=no disease, 1=heart disease (instead of 1-4)\n",
        "\n",
        "df.num = [1 if i > 0 else i for i in df.num]\n",
        "\n",
        "df.head()"
      ],
      "execution_count": 20,
      "outputs": [
        {
          "output_type": "execute_result",
          "data": {
            "text/html": [
              "<div>\n",
              "<style scoped>\n",
              "    .dataframe tbody tr th:only-of-type {\n",
              "        vertical-align: middle;\n",
              "    }\n",
              "\n",
              "    .dataframe tbody tr th {\n",
              "        vertical-align: top;\n",
              "    }\n",
              "\n",
              "    .dataframe thead th {\n",
              "        text-align: right;\n",
              "    }\n",
              "</style>\n",
              "<table border=\"1\" class=\"dataframe\">\n",
              "  <thead>\n",
              "    <tr style=\"text-align: right;\">\n",
              "      <th></th>\n",
              "      <th>age</th>\n",
              "      <th>sex</th>\n",
              "      <th>cp</th>\n",
              "      <th>restbp</th>\n",
              "      <th>chol</th>\n",
              "      <th>fbs</th>\n",
              "      <th>restecg</th>\n",
              "      <th>thalach</th>\n",
              "      <th>exang</th>\n",
              "      <th>oldpeak</th>\n",
              "      <th>slope</th>\n",
              "      <th>ca</th>\n",
              "      <th>thal</th>\n",
              "      <th>num</th>\n",
              "    </tr>\n",
              "  </thead>\n",
              "  <tbody>\n",
              "    <tr>\n",
              "      <th>0</th>\n",
              "      <td>63.0</td>\n",
              "      <td>1</td>\n",
              "      <td>0</td>\n",
              "      <td>145.0</td>\n",
              "      <td>233.0</td>\n",
              "      <td>1</td>\n",
              "      <td>2</td>\n",
              "      <td>150.0</td>\n",
              "      <td>0</td>\n",
              "      <td>2.3</td>\n",
              "      <td>2</td>\n",
              "      <td>0</td>\n",
              "      <td>1</td>\n",
              "      <td>0</td>\n",
              "    </tr>\n",
              "    <tr>\n",
              "      <th>1</th>\n",
              "      <td>67.0</td>\n",
              "      <td>1</td>\n",
              "      <td>3</td>\n",
              "      <td>160.0</td>\n",
              "      <td>286.0</td>\n",
              "      <td>0</td>\n",
              "      <td>2</td>\n",
              "      <td>108.0</td>\n",
              "      <td>1</td>\n",
              "      <td>1.5</td>\n",
              "      <td>1</td>\n",
              "      <td>3</td>\n",
              "      <td>0</td>\n",
              "      <td>1</td>\n",
              "    </tr>\n",
              "    <tr>\n",
              "      <th>2</th>\n",
              "      <td>67.0</td>\n",
              "      <td>1</td>\n",
              "      <td>3</td>\n",
              "      <td>120.0</td>\n",
              "      <td>229.0</td>\n",
              "      <td>0</td>\n",
              "      <td>2</td>\n",
              "      <td>129.0</td>\n",
              "      <td>1</td>\n",
              "      <td>2.6</td>\n",
              "      <td>1</td>\n",
              "      <td>2</td>\n",
              "      <td>2</td>\n",
              "      <td>1</td>\n",
              "    </tr>\n",
              "    <tr>\n",
              "      <th>3</th>\n",
              "      <td>37.0</td>\n",
              "      <td>1</td>\n",
              "      <td>2</td>\n",
              "      <td>130.0</td>\n",
              "      <td>250.0</td>\n",
              "      <td>0</td>\n",
              "      <td>0</td>\n",
              "      <td>187.0</td>\n",
              "      <td>0</td>\n",
              "      <td>3.5</td>\n",
              "      <td>2</td>\n",
              "      <td>0</td>\n",
              "      <td>0</td>\n",
              "      <td>0</td>\n",
              "    </tr>\n",
              "    <tr>\n",
              "      <th>4</th>\n",
              "      <td>41.0</td>\n",
              "      <td>0</td>\n",
              "      <td>1</td>\n",
              "      <td>130.0</td>\n",
              "      <td>204.0</td>\n",
              "      <td>0</td>\n",
              "      <td>2</td>\n",
              "      <td>172.0</td>\n",
              "      <td>0</td>\n",
              "      <td>1.4</td>\n",
              "      <td>0</td>\n",
              "      <td>0</td>\n",
              "      <td>0</td>\n",
              "      <td>0</td>\n",
              "    </tr>\n",
              "  </tbody>\n",
              "</table>\n",
              "</div>"
            ],
            "text/plain": [
              "    age  sex  cp  restbp   chol  fbs  restecg  thalach  exang  oldpeak  slope  \\\n",
              "0  63.0    1   0   145.0  233.0    1        2    150.0      0      2.3      2   \n",
              "1  67.0    1   3   160.0  286.0    0        2    108.0      1      1.5      1   \n",
              "2  67.0    1   3   120.0  229.0    0        2    129.0      1      2.6      1   \n",
              "3  37.0    1   2   130.0  250.0    0        0    187.0      0      3.5      2   \n",
              "4  41.0    0   1   130.0  204.0    0        2    172.0      0      1.4      0   \n",
              "\n",
              "   ca  thal  num  \n",
              "0   0     1    0  \n",
              "1   3     0    1  \n",
              "2   2     2    1  \n",
              "3   0     0    0  \n",
              "4   0     0    0  "
            ]
          },
          "metadata": {
            "tags": []
          },
          "execution_count": 20
        }
      ]
    },
    {
      "metadata": {
        "id": "ywKgoPnmufMk",
        "colab_type": "text"
      },
      "cell_type": "markdown",
      "source": [
        "##Exploratory Data Analysis"
      ]
    },
    {
      "metadata": {
        "id": "4WoYMz3iJMgL",
        "colab_type": "code",
        "outputId": "56ff913a-594a-45b6-b765-8642566285d3",
        "colab": {
          "base_uri": "https://localhost:8080/",
          "height": 34
        }
      },
      "cell_type": "code",
      "source": [
        "df.shape"
      ],
      "execution_count": 21,
      "outputs": [
        {
          "output_type": "execute_result",
          "data": {
            "text/plain": [
              "(303, 14)"
            ]
          },
          "metadata": {
            "tags": []
          },
          "execution_count": 21
        }
      ]
    },
    {
      "metadata": {
        "id": "qKGWpouvJVu8",
        "colab_type": "code",
        "outputId": "47643ab9-fd12-4265-916b-ac0acded344e",
        "colab": {
          "base_uri": "https://localhost:8080/",
          "height": 284
        }
      },
      "cell_type": "code",
      "source": [
        "df.describe()"
      ],
      "execution_count": 22,
      "outputs": [
        {
          "output_type": "execute_result",
          "data": {
            "text/html": [
              "<div>\n",
              "<style scoped>\n",
              "    .dataframe tbody tr th:only-of-type {\n",
              "        vertical-align: middle;\n",
              "    }\n",
              "\n",
              "    .dataframe tbody tr th {\n",
              "        vertical-align: top;\n",
              "    }\n",
              "\n",
              "    .dataframe thead th {\n",
              "        text-align: right;\n",
              "    }\n",
              "</style>\n",
              "<table border=\"1\" class=\"dataframe\">\n",
              "  <thead>\n",
              "    <tr style=\"text-align: right;\">\n",
              "      <th></th>\n",
              "      <th>age</th>\n",
              "      <th>sex</th>\n",
              "      <th>cp</th>\n",
              "      <th>restbp</th>\n",
              "      <th>chol</th>\n",
              "      <th>fbs</th>\n",
              "      <th>restecg</th>\n",
              "      <th>thalach</th>\n",
              "      <th>exang</th>\n",
              "      <th>oldpeak</th>\n",
              "      <th>slope</th>\n",
              "      <th>ca</th>\n",
              "      <th>thal</th>\n",
              "      <th>num</th>\n",
              "    </tr>\n",
              "  </thead>\n",
              "  <tbody>\n",
              "    <tr>\n",
              "      <th>count</th>\n",
              "      <td>303.000000</td>\n",
              "      <td>303.000000</td>\n",
              "      <td>303.000000</td>\n",
              "      <td>303.000000</td>\n",
              "      <td>303.000000</td>\n",
              "      <td>303.000000</td>\n",
              "      <td>303.000000</td>\n",
              "      <td>303.000000</td>\n",
              "      <td>303.000000</td>\n",
              "      <td>303.000000</td>\n",
              "      <td>303.000000</td>\n",
              "      <td>303.000000</td>\n",
              "      <td>303.000000</td>\n",
              "      <td>303.000000</td>\n",
              "    </tr>\n",
              "    <tr>\n",
              "      <th>mean</th>\n",
              "      <td>54.438944</td>\n",
              "      <td>0.679868</td>\n",
              "      <td>2.158416</td>\n",
              "      <td>131.689769</td>\n",
              "      <td>246.693069</td>\n",
              "      <td>0.148515</td>\n",
              "      <td>0.990099</td>\n",
              "      <td>149.607261</td>\n",
              "      <td>0.326733</td>\n",
              "      <td>1.039604</td>\n",
              "      <td>0.600660</td>\n",
              "      <td>0.716172</td>\n",
              "      <td>0.851485</td>\n",
              "      <td>0.458746</td>\n",
              "    </tr>\n",
              "    <tr>\n",
              "      <th>std</th>\n",
              "      <td>9.038662</td>\n",
              "      <td>0.467299</td>\n",
              "      <td>0.960126</td>\n",
              "      <td>17.599748</td>\n",
              "      <td>51.776918</td>\n",
              "      <td>0.356198</td>\n",
              "      <td>0.994971</td>\n",
              "      <td>22.875003</td>\n",
              "      <td>0.469794</td>\n",
              "      <td>1.161075</td>\n",
              "      <td>0.616226</td>\n",
              "      <td>1.005927</td>\n",
              "      <td>0.970282</td>\n",
              "      <td>0.499120</td>\n",
              "    </tr>\n",
              "    <tr>\n",
              "      <th>min</th>\n",
              "      <td>29.000000</td>\n",
              "      <td>0.000000</td>\n",
              "      <td>0.000000</td>\n",
              "      <td>94.000000</td>\n",
              "      <td>126.000000</td>\n",
              "      <td>0.000000</td>\n",
              "      <td>0.000000</td>\n",
              "      <td>71.000000</td>\n",
              "      <td>0.000000</td>\n",
              "      <td>0.000000</td>\n",
              "      <td>0.000000</td>\n",
              "      <td>0.000000</td>\n",
              "      <td>0.000000</td>\n",
              "      <td>0.000000</td>\n",
              "    </tr>\n",
              "    <tr>\n",
              "      <th>25%</th>\n",
              "      <td>48.000000</td>\n",
              "      <td>0.000000</td>\n",
              "      <td>2.000000</td>\n",
              "      <td>120.000000</td>\n",
              "      <td>211.000000</td>\n",
              "      <td>0.000000</td>\n",
              "      <td>0.000000</td>\n",
              "      <td>133.500000</td>\n",
              "      <td>0.000000</td>\n",
              "      <td>0.000000</td>\n",
              "      <td>0.000000</td>\n",
              "      <td>0.000000</td>\n",
              "      <td>0.000000</td>\n",
              "      <td>0.000000</td>\n",
              "    </tr>\n",
              "    <tr>\n",
              "      <th>50%</th>\n",
              "      <td>56.000000</td>\n",
              "      <td>1.000000</td>\n",
              "      <td>2.000000</td>\n",
              "      <td>130.000000</td>\n",
              "      <td>241.000000</td>\n",
              "      <td>0.000000</td>\n",
              "      <td>1.000000</td>\n",
              "      <td>153.000000</td>\n",
              "      <td>0.000000</td>\n",
              "      <td>0.800000</td>\n",
              "      <td>1.000000</td>\n",
              "      <td>0.000000</td>\n",
              "      <td>0.000000</td>\n",
              "      <td>0.000000</td>\n",
              "    </tr>\n",
              "    <tr>\n",
              "      <th>75%</th>\n",
              "      <td>61.000000</td>\n",
              "      <td>1.000000</td>\n",
              "      <td>3.000000</td>\n",
              "      <td>140.000000</td>\n",
              "      <td>275.000000</td>\n",
              "      <td>0.000000</td>\n",
              "      <td>2.000000</td>\n",
              "      <td>166.000000</td>\n",
              "      <td>1.000000</td>\n",
              "      <td>1.600000</td>\n",
              "      <td>1.000000</td>\n",
              "      <td>1.000000</td>\n",
              "      <td>2.000000</td>\n",
              "      <td>1.000000</td>\n",
              "    </tr>\n",
              "    <tr>\n",
              "      <th>max</th>\n",
              "      <td>77.000000</td>\n",
              "      <td>1.000000</td>\n",
              "      <td>3.000000</td>\n",
              "      <td>200.000000</td>\n",
              "      <td>564.000000</td>\n",
              "      <td>1.000000</td>\n",
              "      <td>2.000000</td>\n",
              "      <td>202.000000</td>\n",
              "      <td>1.000000</td>\n",
              "      <td>6.200000</td>\n",
              "      <td>2.000000</td>\n",
              "      <td>4.000000</td>\n",
              "      <td>3.000000</td>\n",
              "      <td>1.000000</td>\n",
              "    </tr>\n",
              "  </tbody>\n",
              "</table>\n",
              "</div>"
            ],
            "text/plain": [
              "              age         sex          cp      restbp        chol         fbs  \\\n",
              "count  303.000000  303.000000  303.000000  303.000000  303.000000  303.000000   \n",
              "mean    54.438944    0.679868    2.158416  131.689769  246.693069    0.148515   \n",
              "std      9.038662    0.467299    0.960126   17.599748   51.776918    0.356198   \n",
              "min     29.000000    0.000000    0.000000   94.000000  126.000000    0.000000   \n",
              "25%     48.000000    0.000000    2.000000  120.000000  211.000000    0.000000   \n",
              "50%     56.000000    1.000000    2.000000  130.000000  241.000000    0.000000   \n",
              "75%     61.000000    1.000000    3.000000  140.000000  275.000000    0.000000   \n",
              "max     77.000000    1.000000    3.000000  200.000000  564.000000    1.000000   \n",
              "\n",
              "          restecg     thalach       exang     oldpeak       slope          ca  \\\n",
              "count  303.000000  303.000000  303.000000  303.000000  303.000000  303.000000   \n",
              "mean     0.990099  149.607261    0.326733    1.039604    0.600660    0.716172   \n",
              "std      0.994971   22.875003    0.469794    1.161075    0.616226    1.005927   \n",
              "min      0.000000   71.000000    0.000000    0.000000    0.000000    0.000000   \n",
              "25%      0.000000  133.500000    0.000000    0.000000    0.000000    0.000000   \n",
              "50%      1.000000  153.000000    0.000000    0.800000    1.000000    0.000000   \n",
              "75%      2.000000  166.000000    1.000000    1.600000    1.000000    1.000000   \n",
              "max      2.000000  202.000000    1.000000    6.200000    2.000000    4.000000   \n",
              "\n",
              "             thal         num  \n",
              "count  303.000000  303.000000  \n",
              "mean     0.851485    0.458746  \n",
              "std      0.970282    0.499120  \n",
              "min      0.000000    0.000000  \n",
              "25%      0.000000    0.000000  \n",
              "50%      0.000000    0.000000  \n",
              "75%      2.000000    1.000000  \n",
              "max      3.000000    1.000000  "
            ]
          },
          "metadata": {
            "tags": []
          },
          "execution_count": 22
        }
      ]
    },
    {
      "metadata": {
        "id": "Icp-ppSeJrVe",
        "colab_type": "code",
        "outputId": "8dcea5e1-46d0-46c2-f4c2-97fead988fb9",
        "colab": {
          "base_uri": "https://localhost:8080/",
          "height": 602
        }
      },
      "cell_type": "code",
      "source": [
        "#Check distributions of discrete variables\n",
        "plt.subplots(figsize=(20, 10))\n",
        "\n",
        "plt.subplot(2,5,1)\n",
        "df.num.value_counts(sort=False).plot(kind='bar', title = 'Disease Status')\n",
        "plt.ylabel('Number of Patients')\n",
        "\n",
        "plt.subplot(2,5,2)\n",
        "df.sex.value_counts(sort=False).plot(kind='bar', title = 'Sex, 0=Female 1=Male')\n",
        "\n",
        "plt.subplot(2,5,3)\n",
        "df.cp.value_counts(sort=False).plot(kind='bar', title = 'Chest Pain Type')\n",
        "\n",
        "plt.subplot(2,5,4)\n",
        "df.fbs.value_counts(sort=False).plot(kind='bar', title = 'Fasting Blood Sugar > 120 mg/dl')\n",
        "\n",
        "plt.subplot(2,5,5)\n",
        "df.restecg.value_counts(sort=False).plot(kind='bar', title = 'Resting ECG Results')\n",
        "\n",
        "plt.subplot(2,5,6)\n",
        "df.exang.value_counts(sort=False).plot(kind='bar', title = 'Exercise Induced Angina')\n",
        "plt.ylabel('Number of Patients')\n",
        "\n",
        "plt.subplot(2,5,7)\n",
        "df.slope.value_counts(sort=False).plot(kind='bar', title = 'Slope')                                       \n",
        "\n",
        "plt.subplot(2,5,8)\n",
        "df.ca.value_counts(sort=False).plot(kind='bar', title = '# Major vessels colored by fluoroscopy') \n",
        "\n",
        "plt.subplot(2,5,9)\n",
        "df.thal.value_counts(sort=False).plot(kind='bar', title = 'thal') \n",
        "\n",
        "plt.show()"
      ],
      "execution_count": 23,
      "outputs": [
        {
          "output_type": "display_data",
          "data": {
            "image/png": "[encoded data removed]",
            "text/plain": [
              "<Figure size 1440x720 with 9 Axes>"
            ]
          },
          "metadata": {
            "tags": []
          }
        }
      ]
    },
    {
      "metadata": {
        "id": "EAg_1taYf8h-",
        "colab_type": "text"
      },
      "cell_type": "markdown",
      "source": [
        "There is one more category than expected in \"thal\" and \"ca\". I will explore the original labels for these categories."
      ]
    },
    {
      "metadata": {
        "id": "K5atUyCvMoJj",
        "colab_type": "code",
        "colab": {
          "base_uri": "https://localhost:8080/",
          "height": 34
        },
        "outputId": "c7fa00a9-1d1f-4042-9e18-687964c71a94"
      },
      "cell_type": "code",
      "source": [
        "#Get original labels for 'ca'\n",
        "list(encoders['ca'].classes_)"
      ],
      "execution_count": 24,
      "outputs": [
        {
          "output_type": "execute_result",
          "data": {
            "text/plain": [
              "['0.0', '1.0', '2.0', '3.0', '?']"
            ]
          },
          "metadata": {
            "tags": []
          },
          "execution_count": 24
        }
      ]
    },
    {
      "metadata": {
        "id": "E_JwaoBpPLlB",
        "colab_type": "code",
        "colab": {
          "base_uri": "https://localhost:8080/",
          "height": 34
        },
        "outputId": "606077fb-904e-4740-af2d-d5c992db2ab4"
      },
      "cell_type": "code",
      "source": [
        "#Get original labels for 'thal'\n",
        "list(encoders['thal'].classes_)"
      ],
      "execution_count": 25,
      "outputs": [
        {
          "output_type": "execute_result",
          "data": {
            "text/plain": [
              "['3.0', '6.0', '7.0', '?']"
            ]
          },
          "metadata": {
            "tags": []
          },
          "execution_count": 25
        }
      ]
    },
    {
      "metadata": {
        "id": "SnGxCCJdPbm4",
        "colab_type": "text"
      },
      "cell_type": "markdown",
      "source": [
        "It appears that there are missing values in \"thal\" and \"ca\" denoted by \"?\". Since there are only a few missing values, I will delete these rows.\n"
      ]
    },
    {
      "metadata": {
        "id": "6nKj-UeIf6ql",
        "colab_type": "code",
        "colab": {
          "base_uri": "https://localhost:8080/",
          "height": 336
        },
        "outputId": "e1583f97-affb-4822-8ae5-6c667bedfb75"
      },
      "cell_type": "code",
      "source": [
        "df = df[df.thal != 3]\n",
        "df = df[df.ca != 4]\n",
        "df.info()"
      ],
      "execution_count": 26,
      "outputs": [
        {
          "output_type": "stream",
          "text": [
            "<class 'pandas.core.frame.DataFrame'>\n",
            "Int64Index: 297 entries, 0 to 301\n",
            "Data columns (total 14 columns):\n",
            "age        297 non-null float64\n",
            "sex        297 non-null int64\n",
            "cp         297 non-null int64\n",
            "restbp     297 non-null float64\n",
            "chol       297 non-null float64\n",
            "fbs        297 non-null int64\n",
            "restecg    297 non-null int64\n",
            "thalach    297 non-null float64\n",
            "exang      297 non-null int64\n",
            "oldpeak    297 non-null float64\n",
            "slope      297 non-null int64\n",
            "ca         297 non-null int64\n",
            "thal       297 non-null int64\n",
            "num        297 non-null int64\n",
            "dtypes: float64(5), int64(9)\n",
            "memory usage: 34.8 KB\n"
          ],
          "name": "stdout"
        }
      ]
    },
    {
      "metadata": {
        "id": "nYWapiLENeH7",
        "colab_type": "code",
        "outputId": "170bd8ae-c62b-4676-ab79-b9c3d3e66187",
        "colab": {
          "base_uri": "https://localhost:8080/",
          "height": 334
        }
      },
      "cell_type": "code",
      "source": [
        "#Examine distributions of continuous variables\n",
        "fig, axes = plt.subplots( nrows=1, ncols=5, sharey='row', figsize=(20,5))\n",
        "\n",
        "axes[0].hist(df.age)\n",
        "axes[0].set_xlabel(\"Age (years)\")\n",
        "axes[0].set_ylabel(\"Number of Patients\")\n",
        "axes[1].hist(df.restbp)\n",
        "axes[1].set_xlabel('Resting Blood Pressure (mmHg)')\n",
        "axes[2].hist(df.chol)\n",
        "axes[2].set_xlabel(\"Serum cholesterol (mg/dl)\")                  \n",
        "axes[3].hist(df.thalach)\n",
        "axes[3].set_xlabel(\"Maximum Heart Rate Achieved\")\n",
        "axes[4].hist(df.oldpeak)\n",
        "axes[4].set_xlabel(\"ST depression induced by exercise\")                   \n",
        "\n",
        "plt.show()"
      ],
      "execution_count": 27,
      "outputs": [
        {
          "output_type": "display_data",
          "data": {
            "image/png": "[encoded data removed]",
            "text/plain": [
              "<Figure size 1440x360 with 5 Axes>"
            ]
          },
          "metadata": {
            "tags": []
          }
        }
      ]
    },
    {
      "metadata": {
        "id": "NAm4lSdsjVn3",
        "colab_type": "code",
        "colab": {
          "base_uri": "https://localhost:8080/",
          "height": 2397
        },
        "outputId": "77297eb3-59bb-4850-a414-703818c1cc64"
      },
      "cell_type": "code",
      "source": [
        "#Check distribution of discrete variables by disease status\n",
        "\n",
        "sex_counts = df.groupby('num')['sex'].value_counts()\n",
        "sex_df = pd.DataFrame([sex_counts.index.labels[0], sex_counts.index.labels[1], sex_counts.values], index = ['disease_status', 'sex', 'count'])\n",
        "sex = sex_df.transpose()\n",
        "sns.factorplot(x='disease_status', y='count', hue='sex', data=sex, kind='bar')\n",
        "plt.title('Disease Status by Sex')\n",
        "plt.ylabel('Number of Patients')\n",
        "\n",
        "cp_counts = df.groupby('num')['cp'].value_counts()\n",
        "cp_df = pd.DataFrame([cp_counts.index.labels[0], cp_counts.index.labels[1], cp_counts.values], index = ['disease_status', 'chest_pain_type', 'count'])\n",
        "cp = cp_df.transpose()\n",
        "sns.factorplot(x='disease_status', y='count', hue='chest_pain_type', data=cp, kind='bar')\n",
        "plt.title('Disease Status by Chest Pain Type')\n",
        "plt.ylabel('Number of Patients')\n",
        "\n",
        "fbs_counts = df.groupby('num')['fbs'].value_counts()\n",
        "fbs_df = pd.DataFrame([fbs_counts.index.labels[0], fbs_counts.index.labels[1], fbs_counts.values], index = ['disease_status', 'fbs', 'count'])\n",
        "fbs = fbs_df.transpose()\n",
        "sns.factorplot(x='disease_status', y='count', hue='fbs', data=fbs, kind='bar')\n",
        "plt.title('Disease Status by Fasting Blood Sugar > 120 mg/dl')\n",
        "plt.ylabel('Number of Patients')\n",
        "\n",
        "restecg_counts = df.groupby('num')['restecg'].value_counts()\n",
        "restecg_df = pd.DataFrame([restecg_counts.index.labels[0], restecg_counts.index.labels[1], restecg_counts.values], index = ['disease_status', 'Rest_ECG', 'count'])\n",
        "restecg = restecg_df.transpose()\n",
        "sns.factorplot(x='disease_status', y='count', hue='Rest_ECG', data=restecg, kind='bar')\n",
        "plt.title('Disease Status by Resting ECG Results')\n",
        "plt.ylabel('Number of Patients')\n",
        "\n",
        "exang_counts = df.groupby('num')['exang'].value_counts()\n",
        "exang_df = pd.DataFrame([exang_counts.index.labels[0], exang_counts.index.labels[1], exang_counts.values], index = ['disease_status', 'Exercise_Induced_Angina', 'count'])\n",
        "exang = exang_df.transpose()\n",
        "sns.factorplot(x='disease_status', y='count', hue='Exercise_Induced_Angina', data=exang, kind='bar')\n",
        "plt.title('Disease Status by Exercise Induced Angina')\n",
        "plt.ylabel('Number of Patients')\n",
        "\n",
        "slope_counts = df.groupby('num')['slope'].value_counts()\n",
        "slope_df = pd.DataFrame([slope_counts.index.labels[0], slope_counts.index.labels[1], slope_counts.values], index = ['disease_status', 'Slope', 'count'])\n",
        "slope = slope_df.transpose()\n",
        "sns.factorplot(x='disease_status', y='count', hue='Slope', data=slope, kind='bar')\n",
        "plt.title('Disease Status by Peak Exercise ST Segment Slope')\n",
        "plt.ylabel('Number of Patients')\n",
        "\n",
        "ca_counts = df.groupby('num')['ca'].value_counts()\n",
        "ca_df = pd.DataFrame([ca_counts.index.labels[0], ca_counts.index.labels[1], ca_counts.values], index = ['disease_status', 'ca', 'count'])\n",
        "ca = ca_df.transpose()\n",
        "sns.factorplot(x='disease_status', y='count', hue='ca', data=ca, kind='bar')\n",
        "plt.title('Ca = # Major vessels colored by fluoroscopy')\n",
        "plt.ylabel('Number of Patients')\n",
        "\n",
        "thal_counts = df.groupby('num')['thal'].value_counts()\n",
        "thal_df = pd.DataFrame([thal_counts.index.labels[0], thal_counts.index.labels[1], thal_counts.values], index = ['disease_status', 'thal', 'count'])\n",
        "thal = thal_df.transpose()\n",
        "sns.factorplot(x='disease_status', y='count', hue='thal', data=thal, kind='bar')\n",
        "plt.title('Disease Status by Thal')\n",
        "plt.ylabel('Number of Patients')\n"
      ],
      "execution_count": 28,
      "outputs": [
        {
          "output_type": "stream",
          "text": [
            "/usr/local/lib/python3.6/dist-packages/seaborn/categorical.py:1468: FutureWarning: remove_na is deprecated and is a private function. Do not use.\n",
            "  stat_data = remove_na(group_data[hue_mask])\n"
          ],
          "name": "stderr"
        },
        {
          "output_type": "execute_result",
          "data": {
            "text/plain": [
              "Text(30.307246093750003, 0.5, 'Number of Patients')"
            ]
          },
          "metadata": {
            "tags": []
          },
          "execution_count": 28
        },
        {
          "output_type": "display_data",
          "data": {
            "image/png": "[encoded data removed]",
            "text/plain": [
              "<Figure size 329.625x288 with 1 Axes>"
            ]
          },
          "metadata": {
            "tags": []
          }
        },
        {
          "output_type": "display_data",
          "data": {
            "image/png": "[encoded data removed]",
            "text/plain": [
              "<Figure size 364.625x288 with 1 Axes>"
            ]
          },
          "metadata": {
            "tags": []
          }
        },
        {
          "output_type": "display_data",
          "data": {
            "image/png": "[encoded data removed]",
            "text/plain": [
              "<Figure size 329.625x288 with 1 Axes>"
            ]
          },
          "metadata": {
            "tags": []
          }
        },
        {
          "output_type": "display_data",
          "data": {
            "image/png": "[encoded data removed]",
            "text/plain": [
              "<Figure size 341x288 with 1 Axes>"
            ]
          },
          "metadata": {
            "tags": []
          }
        },
        {
          "output_type": "display_data",
          "data": {
            "image/png": "[encoded data removed]",
            "text/plain": [
              "<Figure size 405.375x288 with 1 Axes>"
            ]
          },
          "metadata": {
            "tags": []
          }
        },
        {
          "output_type": "display_data",
          "data": {
            "image/png": "[encoded data removed]",
            "text/plain": [
              "<Figure size 329.625x288 with 1 Axes>"
            ]
          },
          "metadata": {
            "tags": []
          }
        },
        {
          "output_type": "display_data",
          "data": {
            "image/png": "[encoded data removed]",
            "text/plain": [
              "<Figure size 329.625x288 with 1 Axes>"
            ]
          },
          "metadata": {
            "tags": []
          }
        },
        {
          "output_type": "display_data",
          "data": {
            "image/png": "[encoded data removed]",
            "text/plain": [
              "<Figure size 329.625x288 with 1 Axes>"
            ]
          },
          "metadata": {
            "tags": []
          }
        }
      ]
    },
    {
      "metadata": {
        "id": "bFQdKMOkjAsc",
        "colab_type": "code",
        "colab": {
          "base_uri": "https://localhost:8080/",
          "height": 639
        },
        "outputId": "55e1770e-2a39-4026-8787-aabb93a21923"
      },
      "cell_type": "code",
      "source": [
        "#Compare continuous features based on disease status 0=no disease 1=heart disease\n",
        "plt.subplots(figsize=(20, 10))\n",
        "\n",
        "plt.subplot(2,3,1)\n",
        "sns.boxplot(x=\"num\", y=\"age\", data=df, palette=\"Set2\")\n",
        "plt.xlabel('Disease status')\n",
        "\n",
        "plt.subplot(2,3,2)\n",
        "sns.boxplot(x=\"num\", y=\"restbp\", data=df, palette=\"Set2\")\n",
        "plt.ylabel('Resting Blood Pressure')\n",
        "plt.xlabel('Disease status')\n",
        "\n",
        "plt.subplot(2,3,3)\n",
        "sns.boxplot(x=\"num\", y=\"chol\", data=df, palette=\"Set2\")\n",
        "plt.ylabel('Serum Cholesterol (mg/dl)')\n",
        "plt.xlabel('Disease status')\n",
        "\n",
        "plt.subplot(2,3,4)\n",
        "sns.boxplot(x=\"num\", y=\"thalach\", data=df, palette=\"Set2\")\n",
        "plt.ylabel('Maximum Heart Rate Achieved')\n",
        "plt.xlabel('Disease status')\n",
        "\n",
        "plt.subplot(2,3,5)\n",
        "sns.boxplot(x=\"num\", y=\"oldpeak\", data=df, palette=\"Set2\")\n",
        "plt.ylabel('ST depression induced by exercise')\n",
        "plt.xlabel('Disease status')\n",
        "\n",
        "plt.show()"
      ],
      "execution_count": 29,
      "outputs": [
        {
          "output_type": "stream",
          "text": [
            "/usr/local/lib/python3.6/dist-packages/seaborn/categorical.py:454: FutureWarning: remove_na is deprecated and is a private function. Do not use.\n",
            "  box_data = remove_na(group_data)\n"
          ],
          "name": "stderr"
        },
        {
          "output_type": "display_data",
          "data": {
            "image/png": "[encoded data removed]",
            "text/plain": [
              "<Figure size 1440x720 with 5 Axes>"
            ]
          },
          "metadata": {
            "tags": []
          }
        }
      ]
    },
    {
      "metadata": {
        "id": "M1FdvTtGM85E",
        "colab_type": "code",
        "colab": {
          "base_uri": "https://localhost:8080/",
          "height": 364
        },
        "outputId": "96bbd8b8-ae64-426d-e7bf-5a64b2c605cd"
      },
      "cell_type": "code",
      "source": [
        "#Check for correlation between continuous features\n",
        "num_var = ['age', 'restbp', 'chol', 'thalach', 'oldpeak']\n",
        "sns.heatmap(df[num_var].corr(), annot=True)"
      ],
      "execution_count": 30,
      "outputs": [
        {
          "output_type": "execute_result",
          "data": {
            "text/plain": [
              "<matplotlib.axes._subplots.AxesSubplot at 0x7fe706eadbe0>"
            ]
          },
          "metadata": {
            "tags": []
          },
          "execution_count": 30
        },
        {
          "output_type": "display_data",
          "data": {
            "image/png": "[encoded data removed]",
            "text/plain": [
              "<Figure size 576x396 with 2 Axes>"
            ]
          },
          "metadata": {
            "tags": []
          }
        }
      ]
    },
    {
      "metadata": {
        "id": "CTxpOjPYekwQ",
        "colab_type": "text"
      },
      "cell_type": "markdown",
      "source": [
        "##Pre-processing\n"
      ]
    },
    {
      "metadata": {
        "id": "EKKLIC-hfDVm",
        "colab_type": "code",
        "colab": {
          "base_uri": "https://localhost:8080/",
          "height": 195
        },
        "outputId": "46e6b4c8-f6cd-4a47-9f51-a901807c0542"
      },
      "cell_type": "code",
      "source": [
        "#Change categorical variable to category type\n",
        "\n",
        "df[categorical_features] = df[categorical_features].astype('category')\n",
        "\n",
        "#Scale numeric variables\n",
        "\n",
        "ss = dict() \n",
        "\n",
        "for i in num_var:\n",
        "  ss[i] = StandardScaler()\n",
        "  df[i] = ss[i].fit_transform(df[i].values.reshape(-1, 1))\n",
        "\n",
        "df.head()"
      ],
      "execution_count": 31,
      "outputs": [
        {
          "output_type": "execute_result",
          "data": {
            "text/html": [
              "<div>\n",
              "<style scoped>\n",
              "    .dataframe tbody tr th:only-of-type {\n",
              "        vertical-align: middle;\n",
              "    }\n",
              "\n",
              "    .dataframe tbody tr th {\n",
              "        vertical-align: top;\n",
              "    }\n",
              "\n",
              "    .dataframe thead th {\n",
              "        text-align: right;\n",
              "    }\n",
              "</style>\n",
              "<table border=\"1\" class=\"dataframe\">\n",
              "  <thead>\n",
              "    <tr style=\"text-align: right;\">\n",
              "      <th></th>\n",
              "      <th>age</th>\n",
              "      <th>sex</th>\n",
              "      <th>cp</th>\n",
              "      <th>restbp</th>\n",
              "      <th>chol</th>\n",
              "      <th>fbs</th>\n",
              "      <th>restecg</th>\n",
              "      <th>thalach</th>\n",
              "      <th>exang</th>\n",
              "      <th>oldpeak</th>\n",
              "      <th>slope</th>\n",
              "      <th>ca</th>\n",
              "      <th>thal</th>\n",
              "      <th>num</th>\n",
              "    </tr>\n",
              "  </thead>\n",
              "  <tbody>\n",
              "    <tr>\n",
              "      <th>0</th>\n",
              "      <td>0.936181</td>\n",
              "      <td>1</td>\n",
              "      <td>0</td>\n",
              "      <td>0.750380</td>\n",
              "      <td>-0.276443</td>\n",
              "      <td>1</td>\n",
              "      <td>2</td>\n",
              "      <td>0.017494</td>\n",
              "      <td>0</td>\n",
              "      <td>1.068965</td>\n",
              "      <td>2</td>\n",
              "      <td>0</td>\n",
              "      <td>1</td>\n",
              "      <td>0</td>\n",
              "    </tr>\n",
              "    <tr>\n",
              "      <th>1</th>\n",
              "      <td>1.378929</td>\n",
              "      <td>1</td>\n",
              "      <td>3</td>\n",
              "      <td>1.596266</td>\n",
              "      <td>0.744555</td>\n",
              "      <td>0</td>\n",
              "      <td>2</td>\n",
              "      <td>-1.816334</td>\n",
              "      <td>1</td>\n",
              "      <td>0.381773</td>\n",
              "      <td>1</td>\n",
              "      <td>3</td>\n",
              "      <td>0</td>\n",
              "      <td>1</td>\n",
              "    </tr>\n",
              "    <tr>\n",
              "      <th>2</th>\n",
              "      <td>1.378929</td>\n",
              "      <td>1</td>\n",
              "      <td>3</td>\n",
              "      <td>-0.659431</td>\n",
              "      <td>-0.353500</td>\n",
              "      <td>0</td>\n",
              "      <td>2</td>\n",
              "      <td>-0.899420</td>\n",
              "      <td>1</td>\n",
              "      <td>1.326662</td>\n",
              "      <td>1</td>\n",
              "      <td>2</td>\n",
              "      <td>2</td>\n",
              "      <td>1</td>\n",
              "    </tr>\n",
              "    <tr>\n",
              "      <th>3</th>\n",
              "      <td>-1.941680</td>\n",
              "      <td>1</td>\n",
              "      <td>2</td>\n",
              "      <td>-0.095506</td>\n",
              "      <td>0.051047</td>\n",
              "      <td>0</td>\n",
              "      <td>0</td>\n",
              "      <td>1.633010</td>\n",
              "      <td>0</td>\n",
              "      <td>2.099753</td>\n",
              "      <td>2</td>\n",
              "      <td>0</td>\n",
              "      <td>0</td>\n",
              "      <td>0</td>\n",
              "    </tr>\n",
              "    <tr>\n",
              "      <th>4</th>\n",
              "      <td>-1.498933</td>\n",
              "      <td>0</td>\n",
              "      <td>1</td>\n",
              "      <td>-0.095506</td>\n",
              "      <td>-0.835103</td>\n",
              "      <td>0</td>\n",
              "      <td>2</td>\n",
              "      <td>0.978071</td>\n",
              "      <td>0</td>\n",
              "      <td>0.295874</td>\n",
              "      <td>0</td>\n",
              "      <td>0</td>\n",
              "      <td>0</td>\n",
              "      <td>0</td>\n",
              "    </tr>\n",
              "  </tbody>\n",
              "</table>\n",
              "</div>"
            ],
            "text/plain": [
              "        age sex cp    restbp      chol fbs restecg   thalach exang   oldpeak  \\\n",
              "0  0.936181   1  0  0.750380 -0.276443   1       2  0.017494     0  1.068965   \n",
              "1  1.378929   1  3  1.596266  0.744555   0       2 -1.816334     1  0.381773   \n",
              "2  1.378929   1  3 -0.659431 -0.353500   0       2 -0.899420     1  1.326662   \n",
              "3 -1.941680   1  2 -0.095506  0.051047   0       0  1.633010     0  2.099753   \n",
              "4 -1.498933   0  1 -0.095506 -0.835103   0       2  0.978071     0  0.295874   \n",
              "\n",
              "  slope ca thal  num  \n",
              "0     2  0    1    0  \n",
              "1     1  3    0    1  \n",
              "2     1  2    2    1  \n",
              "3     2  0    0    0  \n",
              "4     0  0    0    0  "
            ]
          },
          "metadata": {
            "tags": []
          },
          "execution_count": 31
        }
      ]
    },
    {
      "metadata": {
        "id": "vRfXxeu1mK_2",
        "colab_type": "code",
        "colab": {
          "base_uri": "https://localhost:8080/",
          "height": 336
        },
        "outputId": "a37d454b-5892-4dc3-e3c6-2654329156a4"
      },
      "cell_type": "code",
      "source": [
        "df.info()"
      ],
      "execution_count": 32,
      "outputs": [
        {
          "output_type": "stream",
          "text": [
            "<class 'pandas.core.frame.DataFrame'>\n",
            "Int64Index: 297 entries, 0 to 301\n",
            "Data columns (total 14 columns):\n",
            "age        297 non-null float64\n",
            "sex        297 non-null category\n",
            "cp         297 non-null category\n",
            "restbp     297 non-null float64\n",
            "chol       297 non-null float64\n",
            "fbs        297 non-null category\n",
            "restecg    297 non-null category\n",
            "thalach    297 non-null float64\n",
            "exang      297 non-null category\n",
            "oldpeak    297 non-null float64\n",
            "slope      297 non-null category\n",
            "ca         297 non-null category\n",
            "thal       297 non-null category\n",
            "num        297 non-null int64\n",
            "dtypes: category(8), float64(5), int64(1)\n",
            "memory usage: 29.5 KB\n"
          ],
          "name": "stdout"
        }
      ]
    },
    {
      "metadata": {
        "id": "f-Baq2crufMq",
        "colab_type": "text"
      },
      "cell_type": "markdown",
      "source": [
        "\n",
        "##Split Train/Test Set"
      ]
    },
    {
      "metadata": {
        "id": "xl3ZdQxjlTLr",
        "colab_type": "code",
        "colab": {}
      },
      "cell_type": "code",
      "source": [
        "X = df.iloc[:, :13]\n",
        "y = df.iloc[:, 13]\n",
        "\n",
        "X_train, X_test, y_train, y_test = train_test_split(X, y, test_size=0.20, random_state=123, stratify = y)"
      ],
      "execution_count": 0,
      "outputs": []
    },
    {
      "metadata": {
        "id": "AXmgmqGJqAk9",
        "colab_type": "text"
      },
      "cell_type": "markdown",
      "source": [
        "##Modeling"
      ]
    },
    {
      "metadata": {
        "id": "SI7hsblfcdtU",
        "colab_type": "text"
      },
      "cell_type": "markdown",
      "source": [
        "###---K Nearest Neighbors Classifier---"
      ]
    },
    {
      "metadata": {
        "id": "5FVdqPQ8a6rq",
        "colab_type": "code",
        "colab": {
          "base_uri": "https://localhost:8080/",
          "height": 34
        },
        "outputId": "656016d1-2d91-45a0-c970-a521fd4d10ec"
      },
      "cell_type": "code",
      "source": [
        "knn = KNeighborsClassifier()\n",
        "\n",
        "knn_result = cross_val_score(knn, X_train, y_train, cv=5, scoring='accuracy')\n",
        "\n",
        "knn_result.mean()"
      ],
      "execution_count": 34,
      "outputs": [
        {
          "output_type": "execute_result",
          "data": {
            "text/plain": [
              "0.8059936786925685"
            ]
          },
          "metadata": {
            "tags": []
          },
          "execution_count": 34
        }
      ]
    },
    {
      "metadata": {
        "id": "-elAbp0aqpqR",
        "colab_type": "code",
        "colab": {
          "base_uri": "https://localhost:8080/",
          "height": 218
        },
        "outputId": "dac21a22-cbf5-4d20-cb0b-ab9cd700d7a3"
      },
      "cell_type": "code",
      "source": [
        "knn.fit(X_train, y_train)\n",
        "predictions = knn.predict(X_test)\n",
        "\n",
        "print(accuracy_score(y_test, predictions))\n",
        "print(confusion_matrix(y_test, predictions))\n",
        "print(classification_report(y_test, predictions))"
      ],
      "execution_count": 35,
      "outputs": [
        {
          "output_type": "stream",
          "text": [
            "0.8666666666666667\n",
            "[[27  5]\n",
            " [ 3 25]]\n",
            "              precision    recall  f1-score   support\n",
            "\n",
            "           0       0.90      0.84      0.87        32\n",
            "           1       0.83      0.89      0.86        28\n",
            "\n",
            "   micro avg       0.87      0.87      0.87        60\n",
            "   macro avg       0.87      0.87      0.87        60\n",
            "weighted avg       0.87      0.87      0.87        60\n",
            "\n"
          ],
          "name": "stdout"
        }
      ]
    },
    {
      "metadata": {
        "id": "tmxhRl4UcxM9",
        "colab_type": "text"
      },
      "cell_type": "markdown",
      "source": [
        "###---Logistic Regression---"
      ]
    },
    {
      "metadata": {
        "id": "00IonFBasrNt",
        "colab_type": "code",
        "colab": {
          "base_uri": "https://localhost:8080/",
          "height": 222
        },
        "outputId": "ac37dece-5d01-4daa-f3c5-edadb1222180"
      },
      "cell_type": "code",
      "source": [
        "lr = LogisticRegression()\n",
        "\n",
        "lr_result = cross_val_score(lr, X_train, y_train, cv=5, scoring='accuracy')\n",
        "\n",
        "lr_result.mean()"
      ],
      "execution_count": 36,
      "outputs": [
        {
          "output_type": "stream",
          "text": [
            "/usr/local/lib/python3.6/dist-packages/sklearn/linear_model/logistic.py:433: FutureWarning: Default solver will be changed to 'lbfgs' in 0.22. Specify a solver to silence this warning.\n",
            "  FutureWarning)\n",
            "/usr/local/lib/python3.6/dist-packages/sklearn/linear_model/logistic.py:433: FutureWarning: Default solver will be changed to 'lbfgs' in 0.22. Specify a solver to silence this warning.\n",
            "  FutureWarning)\n",
            "/usr/local/lib/python3.6/dist-packages/sklearn/linear_model/logistic.py:433: FutureWarning: Default solver will be changed to 'lbfgs' in 0.22. Specify a solver to silence this warning.\n",
            "  FutureWarning)\n",
            "/usr/local/lib/python3.6/dist-packages/sklearn/linear_model/logistic.py:433: FutureWarning: Default solver will be changed to 'lbfgs' in 0.22. Specify a solver to silence this warning.\n",
            "  FutureWarning)\n",
            "/usr/local/lib/python3.6/dist-packages/sklearn/linear_model/logistic.py:433: FutureWarning: Default solver will be changed to 'lbfgs' in 0.22. Specify a solver to silence this warning.\n",
            "  FutureWarning)\n"
          ],
          "name": "stderr"
        },
        {
          "output_type": "execute_result",
          "data": {
            "text/plain": [
              "0.8356151711378355"
            ]
          },
          "metadata": {
            "tags": []
          },
          "execution_count": 36
        }
      ]
    },
    {
      "metadata": {
        "id": "V6Nrm1_4s8bj",
        "colab_type": "code",
        "colab": {
          "base_uri": "https://localhost:8080/",
          "height": 272
        },
        "outputId": "8d6bdbdd-30c4-4528-9c15-11206982b4a4"
      },
      "cell_type": "code",
      "source": [
        "lr.fit(X_train, y_train)\n",
        "predictions = lr.predict(X_test)\n",
        "\n",
        "print(accuracy_score(y_test, predictions))\n",
        "print(confusion_matrix(y_test, predictions))\n",
        "print(classification_report(y_test, predictions))"
      ],
      "execution_count": 37,
      "outputs": [
        {
          "output_type": "stream",
          "text": [
            "0.85\n",
            "[[26  6]\n",
            " [ 3 25]]\n",
            "              precision    recall  f1-score   support\n",
            "\n",
            "           0       0.90      0.81      0.85        32\n",
            "           1       0.81      0.89      0.85        28\n",
            "\n",
            "   micro avg       0.85      0.85      0.85        60\n",
            "   macro avg       0.85      0.85      0.85        60\n",
            "weighted avg       0.85      0.85      0.85        60\n",
            "\n"
          ],
          "name": "stdout"
        },
        {
          "output_type": "stream",
          "text": [
            "/usr/local/lib/python3.6/dist-packages/sklearn/linear_model/logistic.py:433: FutureWarning: Default solver will be changed to 'lbfgs' in 0.22. Specify a solver to silence this warning.\n",
            "  FutureWarning)\n"
          ],
          "name": "stderr"
        }
      ]
    },
    {
      "metadata": {
        "id": "hoA60EPvc2Y0",
        "colab_type": "text"
      },
      "cell_type": "markdown",
      "source": [
        "###---Random Forest Classifier---"
      ]
    },
    {
      "metadata": {
        "id": "nK7NEcCNsOqX",
        "colab_type": "code",
        "colab": {
          "base_uri": "https://localhost:8080/",
          "height": 202
        },
        "outputId": "44ff582f-30e8-4a03-ba14-a60b00869096"
      },
      "cell_type": "code",
      "source": [
        "rf = RandomForestClassifier()\n",
        "\n",
        "rf_result = cross_val_score(rf, X_train, y_train, cv=5, scoring='accuracy')\n",
        "\n",
        "rf_result.mean()"
      ],
      "execution_count": 38,
      "outputs": [
        {
          "output_type": "stream",
          "text": [
            "/usr/local/lib/python3.6/dist-packages/sklearn/ensemble/forest.py:246: FutureWarning: The default value of n_estimators will change from 10 in version 0.20 to 100 in 0.22.\n",
            "  \"10 in version 0.20 to 100 in 0.22.\", FutureWarning)\n",
            "/usr/local/lib/python3.6/dist-packages/sklearn/ensemble/forest.py:246: FutureWarning: The default value of n_estimators will change from 10 in version 0.20 to 100 in 0.22.\n",
            "  \"10 in version 0.20 to 100 in 0.22.\", FutureWarning)\n",
            "/usr/local/lib/python3.6/dist-packages/sklearn/ensemble/forest.py:246: FutureWarning: The default value of n_estimators will change from 10 in version 0.20 to 100 in 0.22.\n",
            "  \"10 in version 0.20 to 100 in 0.22.\", FutureWarning)\n",
            "/usr/local/lib/python3.6/dist-packages/sklearn/ensemble/forest.py:246: FutureWarning: The default value of n_estimators will change from 10 in version 0.20 to 100 in 0.22.\n",
            "  \"10 in version 0.20 to 100 in 0.22.\", FutureWarning)\n",
            "/usr/local/lib/python3.6/dist-packages/sklearn/ensemble/forest.py:246: FutureWarning: The default value of n_estimators will change from 10 in version 0.20 to 100 in 0.22.\n",
            "  \"10 in version 0.20 to 100 in 0.22.\", FutureWarning)\n"
          ],
          "name": "stderr"
        },
        {
          "output_type": "execute_result",
          "data": {
            "text/plain": [
              "0.8020081714461919"
            ]
          },
          "metadata": {
            "tags": []
          },
          "execution_count": 38
        }
      ]
    },
    {
      "metadata": {
        "id": "RGz82VqJtUPJ",
        "colab_type": "code",
        "colab": {
          "base_uri": "https://localhost:8080/",
          "height": 252
        },
        "outputId": "5b9c7cc5-eeb7-4f24-b37b-f5efa9dfc720"
      },
      "cell_type": "code",
      "source": [
        "rf.fit(X_train, y_train)\n",
        "predictions = rf.predict(X_test)\n",
        "\n",
        "print(accuracy_score(y_test, predictions))\n",
        "print(confusion_matrix(y_test, predictions))\n",
        "print(classification_report(y_test, predictions))"
      ],
      "execution_count": 39,
      "outputs": [
        {
          "output_type": "stream",
          "text": [
            "0.8833333333333333\n",
            "[[29  3]\n",
            " [ 4 24]]\n",
            "              precision    recall  f1-score   support\n",
            "\n",
            "           0       0.88      0.91      0.89        32\n",
            "           1       0.89      0.86      0.87        28\n",
            "\n",
            "   micro avg       0.88      0.88      0.88        60\n",
            "   macro avg       0.88      0.88      0.88        60\n",
            "weighted avg       0.88      0.88      0.88        60\n",
            "\n"
          ],
          "name": "stdout"
        },
        {
          "output_type": "stream",
          "text": [
            "/usr/local/lib/python3.6/dist-packages/sklearn/ensemble/forest.py:246: FutureWarning: The default value of n_estimators will change from 10 in version 0.20 to 100 in 0.22.\n",
            "  \"10 in version 0.20 to 100 in 0.22.\", FutureWarning)\n"
          ],
          "name": "stderr"
        }
      ]
    },
    {
      "metadata": {
        "id": "fUPFnxa8c-Xr",
        "colab_type": "text"
      },
      "cell_type": "markdown",
      "source": [
        "###Compare Model Performance with AUC curve"
      ]
    },
    {
      "metadata": {
        "id": "N9vhAm0QuuMM",
        "colab_type": "code",
        "colab": {
          "base_uri": "https://localhost:8080/",
          "height": 376
        },
        "outputId": "e35bca70-ce67-43f9-ac5c-a849a2328619"
      },
      "cell_type": "code",
      "source": [
        "from sklearn.metrics import roc_curve\n",
        "lr_fpr, lr_tpr, lr_thresholds = roc_curve(y_test, lr.predict_proba(X_test)[:, 1])\n",
        "lr_auc = roc_auc_score(y_test, lr.predict(X_test))\n",
        "\n",
        "rf_fpr, rf_tpr, rf_thresholds = roc_curve(y_test, rf.predict_proba(X_test)[:, 1])\n",
        "rf_auc = roc_auc_score(y_test, rf.predict(X_test))\n",
        "\n",
        "knn_fpr, knn_tpr, knn_thresholds = roc_curve(y_test, knn.predict_proba(X_test)[:, 1])\n",
        "knn_auc = roc_auc_score(y_test, knn.predict(X_test))\n",
        "\n",
        "plt.figure()\n",
        "\n",
        "plt.plot(knn_fpr, knn_tpr, label = 'K Nearest Neighbors Classifier (area = %0.2f)' % knn_auc)\n",
        "plt.plot(lr_fpr, lr_tpr, label = 'Logistic Regression (area = %0.2f)' % lr_auc)\n",
        "plt.plot(rf_fpr, rf_tpr, label = 'Random Forest Classifier (area = %0.2f)' %rf_auc)\n",
        "\n",
        "plt.plot([0,1], [0,1], label='Base Rate')\n",
        "\n",
        "plt.xlim([0.0, 1.0])\n",
        "plt.ylim([0.0, 1.05])\n",
        "plt.xlabel('False Positive Rate')\n",
        "plt.ylabel('True Positive Rate')\n",
        "plt.title ('ROC graph')\n",
        "plt.legend(loc='lower right')\n",
        "\n",
        "plt.show()"
      ],
      "execution_count": 40,
      "outputs": [
        {
          "output_type": "display_data",
          "data": {
            "image/png": "[encoded data removed]",
            "text/plain": [
              "<Figure size 576x396 with 1 Axes>"
            ]
          },
          "metadata": {
            "tags": []
          }
        }
      ]
    },
    {
      "metadata": {
        "id": "VpNG4KcwdGrz",
        "colab_type": "text"
      },
      "cell_type": "markdown",
      "source": [
        "Overall, the models performed similarly. The winner is the random forest classifier, but it's not likely that its performance is significantly different from the others. Nevertheless, I will try to tune the hyperparameters for the random forest classifier."
      ]
    },
    {
      "metadata": {
        "id": "F2r6e-Ajdxjp",
        "colab_type": "text"
      },
      "cell_type": "markdown",
      "source": [
        "###Hyperparameter Tuning for Random Forest Classifier"
      ]
    },
    {
      "metadata": {
        "id": "b3JSZ3PgL5nF",
        "colab_type": "code",
        "colab": {
          "base_uri": "https://localhost:8080/",
          "height": 272
        },
        "outputId": "c30b85a6-2669-405e-e940-fca9ce31b05e"
      },
      "cell_type": "code",
      "source": [
        "tuned_parameters = [{'n_estimators': [10, 30, 50, 70, 90, 110, 130, 150], 'max_features': ['auto', 'log2', None]}]\n",
        "grid = GridSearchCV(rf, tuned_parameters, cv=5, scoring = \"accuracy\")  \n",
        "grid.fit(X_train, y_train)"
      ],
      "execution_count": 41,
      "outputs": [
        {
          "output_type": "stream",
          "text": [
            "/usr/local/lib/python3.6/dist-packages/sklearn/model_selection/_search.py:841: DeprecationWarning: The default of the `iid` parameter will change from True to False in version 0.22 and will be removed in 0.24. This will change numeric results when test-set sizes are unequal.\n",
            "  DeprecationWarning)\n"
          ],
          "name": "stderr"
        },
        {
          "output_type": "execute_result",
          "data": {
            "text/plain": [
              "GridSearchCV(cv=5, error_score='raise-deprecating',\n",
              "       estimator=RandomForestClassifier(bootstrap=True, class_weight=None, criterion='gini',\n",
              "            max_depth=None, max_features='auto', max_leaf_nodes=None,\n",
              "            min_impurity_decrease=0.0, min_impurity_split=None,\n",
              "            min_samples_leaf=1, min_samples_split=2,\n",
              "            min_weight_fraction_leaf=0.0, n_estimators=10, n_jobs=None,\n",
              "            oob_score=False, random_state=None, verbose=0,\n",
              "            warm_start=False),\n",
              "       fit_params=None, iid='warn', n_jobs=None,\n",
              "       param_grid=[{'n_estimators': [10, 30, 50, 70, 90, 110, 130, 150], 'max_features': ['auto', 'log2', None]}],\n",
              "       pre_dispatch='2*n_jobs', refit=True, return_train_score='warn',\n",
              "       scoring='accuracy', verbose=0)"
            ]
          },
          "metadata": {
            "tags": []
          },
          "execution_count": 41
        }
      ]
    },
    {
      "metadata": {
        "id": "OI8whisIYeRj",
        "colab_type": "code",
        "colab": {
          "base_uri": "https://localhost:8080/",
          "height": 34
        },
        "outputId": "8be693d5-0ef7-4484-9788-77a06c3efc72"
      },
      "cell_type": "code",
      "source": [
        "print(grid.best_params_)"
      ],
      "execution_count": 42,
      "outputs": [
        {
          "output_type": "stream",
          "text": [
            "{'max_features': 'auto', 'n_estimators': 110}\n"
          ],
          "name": "stdout"
        }
      ]
    },
    {
      "metadata": {
        "id": "cmjn5oXbZnUw",
        "colab_type": "code",
        "colab": {
          "base_uri": "https://localhost:8080/",
          "height": 34
        },
        "outputId": "f121da82-aba8-4410-cbd8-f11805135879"
      },
      "cell_type": "code",
      "source": [
        "rf2 = RandomForestClassifier(n_estimators = 110)\n",
        "\n",
        "rf2_result = cross_val_score(rf2, X_train, y_train, cv=5, scoring='accuracy')\n",
        "\n",
        "rf2_result.mean()"
      ],
      "execution_count": 43,
      "outputs": [
        {
          "output_type": "execute_result",
          "data": {
            "text/plain": [
              "0.814781837804502"
            ]
          },
          "metadata": {
            "tags": []
          },
          "execution_count": 43
        }
      ]
    },
    {
      "metadata": {
        "id": "kg6kyo06Z69P",
        "colab_type": "code",
        "colab": {
          "base_uri": "https://localhost:8080/",
          "height": 235
        },
        "outputId": "cfee3103-76f3-4110-fd1a-597fd50bed46"
      },
      "cell_type": "code",
      "source": [
        "rf2.fit(X_train, y_train)\n",
        "predictions = rf2.predict(X_test)\n",
        "\n",
        "print(accuracy_score(y_test, predictions))\n",
        "print(confusion_matrix(y_test, predictions))\n",
        "print(classification_report(y_test, predictions))\n",
        "print(roc_auc_score(y_test, predictions))"
      ],
      "execution_count": 45,
      "outputs": [
        {
          "output_type": "stream",
          "text": [
            "0.85\n",
            "[[27  5]\n",
            " [ 4 24]]\n",
            "              precision    recall  f1-score   support\n",
            "\n",
            "           0       0.87      0.84      0.86        32\n",
            "           1       0.83      0.86      0.84        28\n",
            "\n",
            "   micro avg       0.85      0.85      0.85        60\n",
            "   macro avg       0.85      0.85      0.85        60\n",
            "weighted avg       0.85      0.85      0.85        60\n",
            "\n",
            "0.8504464285714286\n"
          ],
          "name": "stdout"
        }
      ]
    },
    {
      "metadata": {
        "id": "DQq6fzHvejiN",
        "colab_type": "text"
      },
      "cell_type": "markdown",
      "source": [
        "After hyperparameter tuning, the model did better on the training data but worse on the test data. There might be overfitting, so I'll use the original parameters. "
      ]
    },
    {
      "metadata": {
        "id": "ijxIQ2nrevdp",
        "colab_type": "text"
      },
      "cell_type": "markdown",
      "source": [
        "###Feature Importance"
      ]
    },
    {
      "metadata": {
        "id": "i_yJSwKIxMpm",
        "colab_type": "code",
        "colab": {
          "base_uri": "https://localhost:8080/",
          "height": 492
        },
        "outputId": "285c5c3f-59ab-487b-8e8c-4f020fe3956a"
      },
      "cell_type": "code",
      "source": [
        "#Extract feature importance from Random Forest Classifier\n",
        "\n",
        "feature_importances = pd.DataFrame(rf.feature_importances_, index = X_train.columns, columns = ['importance']).sort_values('importance', ascending=False)\n",
        "feature_importances = feature_importances.reset_index()\n",
        "\n",
        "sns.set(style=\"whitegrid\")\n",
        "\n",
        "f, ax = plt.subplots(figsize=(13, 7))\n",
        "\n",
        "sns.barplot(x=\"importance\", y='index', data=feature_importances, label='Total')"
      ],
      "execution_count": 46,
      "outputs": [
        {
          "output_type": "stream",
          "text": [
            "/usr/local/lib/python3.6/dist-packages/seaborn/categorical.py:1428: FutureWarning: remove_na is deprecated and is a private function. Do not use.\n",
            "  stat_data = remove_na(group_data)\n"
          ],
          "name": "stderr"
        },
        {
          "output_type": "execute_result",
          "data": {
            "text/plain": [
              "<matplotlib.axes._subplots.AxesSubplot at 0x7fe7095418d0>"
            ]
          },
          "metadata": {
            "tags": []
          },
          "execution_count": 46
        },
        {
          "output_type": "display_data",
          "data": {
            "image/png": "[encoded data removed]",
            "text/plain": [
              "<Figure size 936x504 with 1 Axes>"
            ]
          },
          "metadata": {
            "tags": []
          }
        }
      ]
    },
    {
      "metadata": {
        "id": "0QLwXVcQfNUv",
        "colab_type": "text"
      },
      "cell_type": "markdown",
      "source": [
        "To understand which are the most important features, I will add a column of random noise to the data and check it's importance measure against the other features. "
      ]
    },
    {
      "metadata": {
        "id": "IUjrxiAdG5e3",
        "colab_type": "code",
        "colab": {
          "base_uri": "https://localhost:8080/",
          "height": 526
        },
        "outputId": "d55f29a1-ed02-4e33-f8e8-24a395b05ff2"
      },
      "cell_type": "code",
      "source": [
        "#Add a column of random noise and re-plot feature importance\n",
        "\n",
        "X_train_rnoise = pd.DataFrame(X_train)\n",
        "X_train_rnoise['RANDOM_NOISE'] = np.random.normal(0, 1, X_train_rnoise.shape[0])\n",
        "\n",
        "rf_random = RandomForestClassifier()\n",
        "rf_random = rf_random.fit(X_train_rnoise, y_train)\n",
        "\n",
        "feature_importances_random = pd.DataFrame(rf_random.feature_importances_, index = X_train_rnoise.columns, columns = ['importance']).sort_values('importance', ascending=False)\n",
        "feature_importances_random = feature_importances_random.reset_index()\n",
        "\n",
        "sns.set(style='whitegrid')\n",
        "\n",
        "f, ax = plt.subplots(figsize=(13, 7))\n",
        "\n",
        "sns.barplot(x=\"importance\", y='index', data=feature_importances_random, label='Total')"
      ],
      "execution_count": 47,
      "outputs": [
        {
          "output_type": "stream",
          "text": [
            "/usr/local/lib/python3.6/dist-packages/sklearn/ensemble/forest.py:246: FutureWarning: The default value of n_estimators will change from 10 in version 0.20 to 100 in 0.22.\n",
            "  \"10 in version 0.20 to 100 in 0.22.\", FutureWarning)\n",
            "/usr/local/lib/python3.6/dist-packages/seaborn/categorical.py:1428: FutureWarning: remove_na is deprecated and is a private function. Do not use.\n",
            "  stat_data = remove_na(group_data)\n"
          ],
          "name": "stderr"
        },
        {
          "output_type": "execute_result",
          "data": {
            "text/plain": [
              "<matplotlib.axes._subplots.AxesSubplot at 0x7fe7096e4cc0>"
            ]
          },
          "metadata": {
            "tags": []
          },
          "execution_count": 47
        },
        {
          "output_type": "display_data",
          "data": {
            "image/png": "[encoded data removed]",
            "text/plain": [
              "<Figure size 936x504 with 1 Axes>"
            ]
          },
          "metadata": {
            "tags": []
          }
        }
      ]
    },
    {
      "metadata": {
        "id": "73GNsnb8fio7",
        "colab_type": "text"
      },
      "cell_type": "markdown",
      "source": [
        "I will consider everything above RANDOM_NOISE to be the most important features for the classification problem. These features include thal, ca, cp, oldpeak, age, and thalach. "
      ]
    },
    {
      "metadata": {
        "id": "vTOpMad1jcTa",
        "colab_type": "text"
      },
      "cell_type": "markdown",
      "source": [
        "##Conclusion"
      ]
    },
    {
      "metadata": {
        "id": "HBq74Tm0jepY",
        "colab_type": "text"
      },
      "cell_type": "markdown",
      "source": [
        "The three models tested (K Nearest Neighbors, Logistic Regression, and Random Forest Classifier) performed similarly in the classification of heart disease with AUC scores of .87, .85, and .88, respectively. \n",
        "\n",
        "The most important feature appears to be \"thal,\" but there's little information provided for this feature. Upon a quick google search, I suspect this may refer to a thallium stress test, which can be used to identify reversible and fixed heart defects. It is intuitive that a test that detects heart defects would be a good predictor of heart disease. \"Ca,\" the number of major vessels colored by fluoroscopy, was the second-highest ranked feature. From the EDA, we can see that patients with heart disease are more likely to have major vessels colored by fluoroscopy. \"Oldpeak\" is the ST depression induced by exercise relative to rest, and it appears that higher ST depression is related to heart disease. In fact, ST depression is associated with cardiac ischemia and infarction (1). Finally, it appears that a lower value of \"thalach,\" the maximum heart rate achieved, is associated with heart disease. "
      ]
    },
    {
      "metadata": {
        "id": "hjKGGV5h7WJ8",
        "colab_type": "text"
      },
      "cell_type": "markdown",
      "source": [
        "1. T Pollehn, W J Brady, A D Perron, F Morris, The electrocardiographic differential diagnosis of ST segment depression. Emergency Medicine Journal 19, 129–135 (2002)."
      ]
    }
  ]
}